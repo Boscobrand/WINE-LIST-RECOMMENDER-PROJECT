{
 "cells": [
  {
   "cell_type": "markdown",
   "metadata": {},
   "source": [
    "### CAPSTONE: CHECKPOINT 3\n",
    "Tony Bosco - \n",
    "March 4,2020"
   ]
  },
  {
   "cell_type": "markdown",
   "metadata": {},
   "source": [
    "**QUESTION 1: Do you have data fully in hand and if not, what blockers are you facing?**\n",
    "\n",
    "As of Sunday, March 1 I've been able to finally establish a program which will route data directly into a dataframe after a Selenium webscrape.  This initially proved to be more difficult to decode than initially thought, and took some additional time to lock down.   Since then, experimenting with keeping Selenium up and running long enough to make a deep collection of observations.  Preliminary test was at approximately 2700, last test doubled that.  As of 2:30pm Monday I have started to assess what is forcing the time-out before a higher number of observations were reached.  One blog introduced the fact that a minimized window in Chrome may have received less attention than one that was open, and reduced the priority of the function.  Trying to get through this learning about Selenium fast enough to drive increased observations closer to what is intended, but may start with a sample of almost 6000 observations to make some preliminary moves.\n",
    "\n",
    "*UPDATE AS OF 3/3*\n",
    "\n",
    "Unable to resolve unexplained drop off of data collection (Fluctuating from 6000 down to avergae of 2700 each run).  Changed strategy evening of 3/3 to resolve.  Instead of attempting to scrape all info from site at once, breaking up process into individual, modified searches by wine type at a modified pricepoint.  New process will result in developing approximately 16 to 24 files that can be easily categorized by wine type (red, white, sparkling, etc.) prior to concatenating into one master csv file for cleaning, deduplication and manipulation.  Most importantly, it extends ratings from 4.9 down to 3.0, providing more of a range on ratings that could previously be captured.\n",
    "\n",
    "| Wine Type | Vivino Observations | By Rating | Popular | High/Low Price | Low/High Price |    Total/Target    |\n",
    "|-----------|---------------------|-----------|---------|----------------|----------------|--------------------|\n",
    "| Red       | 55750               | 2800      | 2275    | 1850           | 2275           |        9,200       |\n",
    "| White     | 19864               | 2800      | 2475    | 2850           | 3200           |       11,325       |\n",
    "| Sparkling |  4821               | 2575      | 2775    | 2950           | 2800(TBC)      |        4,000       |\n",
    "| Rose      |   320               |  320      |         |                |                |          320       |\n",
    "| Port      |   873               |  873      |         |                |                |          873       |\n",
    "| Dessert   |   845               |  845      |         |                |                |          845       |\n",
    "\n",
    "\n",
    "- Current Potential:  26,564\n",
    "- First Success File:  5,900\n",
    "- Potential:          32,463\n",
    "- Original Target:    45,000\n",
    "\n",
    "\n",
    "*Complete collection by 3/4-3/5"
   ]
  },
  {
   "cell_type": "markdown",
   "metadata": {},
   "source": [
    "**QUESTION 2: Have you done a full EDA on all of your data?**\n",
    "\n",
    "Still fine tuning data gathering to increase observations.  Next steps include cleaning dataframe, EDA and light feature engineering.   Key items being considered for EDA include:\n",
    "\n",
    "- Ratings by wine type (Red, White, Sparkling, Rose, Port, Dessert)\n",
    "- Ratings by wine varietal/style (varietal to be extracted)\n",
    "- Relationship/correlations between rating and price overall and by type\n",
    "- Ratings and vintage (vintage to be extracted)\n",
    "- Ratings and popularity based on subset"
   ]
  },
  {
   "cell_type": "markdown",
   "metadata": {},
   "source": [
    "**QUESTION 3: Have you begun the modeling process? How accurate are your predictions so far?**\n",
    "    \n",
    "Sought to start the modeling process with a small section of captured data (5900 observations) to keep things moving while attempting to pull in more data.  Hope to apply to larger observation set later.  Initiated attempt to build recommender with 5900 observations.\n"
   ]
  },
  {
   "cell_type": "markdown",
   "metadata": {},
   "source": [
    "**QUESTION 4: What blockers are you facing, including processing power, data acquisition, modeling difficulties, data cleaning, etc.? How can we help you overcome those challenges?**\n",
    "\n",
    "My challenges so far have primarily been the unknown challenges with a steep learning curve on Selenium and getting it to do what I need it to do.  I'm currently concerned about data acquisition (to get up closer to the 45,000 observations I had intended, and if the models I produce with a lower number of observations can scale effectively.  I also need to go down another depth of ratings (into threes and twos) for the recommender to work well.   There is also more that I want to do to add features to the data to aid in search, so I am hoping to resolve some of this by our meeting Wednesday. "
   ]
  },
  {
   "cell_type": "markdown",
   "metadata": {},
   "source": [
    "**QUESTION 5: Have you changed topics since your lightning talk? Since you submitted your Problem Statement and EDA? If so, do you have the necessary data in hand (and the requisite EDA completed) to continue moving forward?**\n",
    "    \n",
    "I HAVE NOT CHANGED my topic and I am considering myself locked in.   Data is close, EDA will hopefully be in progress by our conversation.   "
   ]
  },
  {
   "cell_type": "markdown",
   "metadata": {},
   "source": [
    "**QUESTION 6: What is your timeline for the next week and a half? What do you have to get done versus what would you like to get done?**\n",
    "    \n",
    "*March 1:* \n",
    "- Resolve Dataframe Collection issue = complete\n",
    "\n",
    "*March 2-5:* \n",
    "- Resolve Time_out issue and increase observations\n",
    "- Complete data collection\n",
    "- Begin cleaning and assembly of scraped datasets\n",
    "- Map out recommender system\n",
    "\n",
    "*March 4-7:*\n",
    "- Complete build of integrated larger data set\n",
    "- Work on EDA of dataset\n",
    "- Engineer Features\n",
    "- Begin build out of recommender system\n",
    "  \n",
    "*March 8-10:*\n",
    "- Full Recommender System Test\n",
    "\n",
    "\n",
    "*March 11-12*\n",
    "- Full Recommender System Enhancements\n",
    "\n",
    "*March 12- 15*\n",
    "- Final Recommender System Tests\n",
    "- Presentation Development\n",
    "\n",
    "*March 16-17*\n",
    "- Final Capstone Presentation\n"
   ]
  },
  {
   "cell_type": "markdown",
   "metadata": {},
   "source": [
    "**QUESTION 7: What topics do you want to discuss during your 1:1?**\n",
    "\n",
    "May have some questions as I get to feature engineering, but not yet."
   ]
  },
  {
   "cell_type": "markdown",
   "metadata": {},
   "source": [
    "**ORIGINAL DRAFT PROBLEM STATEMENT:**\n",
    "    \n",
    "https://git.generalassemb.ly/Boscobrand/my_capstone/blob/master/CAPSTONE%20PROJECT%20-%20WINE%20LIST%20GENERATOR.ipynb"
   ]
  }
 ],
 "metadata": {
  "kernelspec": {
   "display_name": "Python 3",
   "language": "python",
   "name": "python3"
  },
  "language_info": {
   "codemirror_mode": {
    "name": "ipython",
    "version": 3
   },
   "file_extension": ".py",
   "mimetype": "text/x-python",
   "name": "python",
   "nbconvert_exporter": "python",
   "pygments_lexer": "ipython3",
   "version": "3.7.4"
  }
 },
 "nbformat": 4,
 "nbformat_minor": 2
}
