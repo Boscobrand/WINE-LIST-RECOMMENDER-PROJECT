{
 "cells": [
  {
   "cell_type": "markdown",
   "metadata": {},
   "source": [
    "## WINE LIST GENERATOR \n",
    "### CAPSTONE PROJECT BY TONY BOSCO"
   ]
  },
  {
   "cell_type": "markdown",
   "metadata": {},
   "source": [
    "### EXECUTIVE OVERVIEW"
   ]
  },
  {
   "cell_type": "markdown",
   "metadata": {},
   "source": [
    "#### PROBLEM STATEMENT"
   ]
  },
  {
   "cell_type": "markdown",
   "metadata": {},
   "source": [
    "In the United States in 2018, the share of on-premise wine dollar sales in the United States stood at 43.9 percent.  The wine industry, for the most part, maintained their pricing and wrestled with new ways to reach and engage a new audience of millenials in the wine market to spur category growth. For restauranteurs seeking to differentiate their establishment and appeal to their targeted patrons, a lot of time and effort goes into the development of their restaurant's wine lists to drive sales for their establishment.  \n",
    "\n",
    "Wine lists can be extraordinarily personal to restaurant owners, as they offer a method by which to engage their customers, great lists can effectively compliment the food that is served and depending on the establishment they can be extraordinarily profitable.  Some wine lists, such as Smith and Willensky's Steakhouse in Manhattan offer over 1000 different bottles of wine to serve an affluent \"expense report\" crowd.  Neighborhood restaurants try to find a balance between an engaging wine list and effectively managing inventory so no customer is disappointed by an out of stock.  That's why it's not unheard of for some wine lists created by neighborhood restaurants to reflect over 150 different labels and take over three months for the owners to cultivate.\n",
    "\n",
    "It is entirely feasible that the current, somewhat antiquated process of wine list development can be bolstered by harnessing new technology. Through the use of Data Science, restauranteurs can benefit from information that will allow them put their finger on the pulse of what their local market may be responding to, and reduce the time and resources it currently takes to create their establishment's wine list.\n",
    "\n",
    "This capstone project will seek to create a model for the generation of a restaurant's wine list, using a database of wine products that have been pre-rated by consumers, and adding features that can allow a level of personalization to compliment multiple establishments.\n",
    "\n",
    "#### OBJECTIVES\n",
    "\n",
    "- Establish a database based on data procured from the popular consumer wine app Vivino\n",
    "    - Primary Goal: Procure approximately 45000 products, ratings, and prices for the database\n",
    "    - Secondary Goal: Procure regional sales information on top selling products by state\n",
    "    - Approach: Selenium webscrape of Vivino, \n",
    "    \n",
    "    \n",
    "- Conduct EDA on the dataset\n",
    "    - Insights on Varietal, Vintage. Style, Region, Appellation, Ratings, Price\n",
    "    \n",
    "    \n",
    "- Enhance the data with Feature Engineering\n",
    "    - Resturant Theme/Style\n",
    "    - Apply characteristics of effective wine lists (To be confirmed)\n",
    "    •\tAppropriate Product Assortment\n",
    "    •\tIntegrated Wine BTG Program\n",
    "    •\tAppropriate Pricing\n",
    "    •\tLogical Organization And Useful Content\n",
    "    •\tCompatible\n",
    "    •\tCredible And Presentable\n",
    "    •\tDynamic\n",
    "    \n",
    "    \n",
    "- Construct a Recommender System for Wine List Generation\n",
    "    - Pairwise Distances\n",
    "    - Cosine Similarity\n",
    "\n",
    "\n",
    "- Evaluate additional Classification model application if needed (TBD)\n",
    "\n",
    "\n",
    "- Deadline: March 17, 2020\n",
    "\n"
   ]
  },
  {
   "cell_type": "markdown",
   "metadata": {},
   "source": [
    "![CAPSTONE%20WORKFLOW.jpg](./CAPSTONE%20WORKFLOW.jpg)"
   ]
  },
  {
   "cell_type": "code",
   "execution_count": null,
   "metadata": {},
   "outputs": [],
   "source": []
  }
 ],
 "metadata": {
  "kernelspec": {
   "display_name": "Python 3",
   "language": "python",
   "name": "python3"
  },
  "language_info": {
   "codemirror_mode": {
    "name": "ipython",
    "version": 3
   },
   "file_extension": ".py",
   "mimetype": "text/x-python",
   "name": "python",
   "nbconvert_exporter": "python",
   "pygments_lexer": "ipython3",
   "version": "3.7.4"
  }
 },
 "nbformat": 4,
 "nbformat_minor": 2
}
