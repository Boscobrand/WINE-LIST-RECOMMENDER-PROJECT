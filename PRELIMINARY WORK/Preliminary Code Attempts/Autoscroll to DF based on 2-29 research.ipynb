{
 "cells": [
  {
   "cell_type": "code",
   "execution_count": 6,
   "metadata": {},
   "outputs": [
    {
     "ename": "SyntaxError",
     "evalue": "invalid syntax (<ipython-input-6-87daad06e4da>, line 76)",
     "output_type": "error",
     "traceback": [
      "\u001b[1;36m  File \u001b[1;32m\"<ipython-input-6-87daad06e4da>\"\u001b[1;36m, line \u001b[1;32m76\u001b[0m\n\u001b[1;33m    print(winery_list)\u001b[0m\n\u001b[1;37m        ^\u001b[0m\n\u001b[1;31mSyntaxError\u001b[0m\u001b[1;31m:\u001b[0m invalid syntax\n"
     ]
    }
   ],
   "source": [
    "import time\n",
    "from selenium import webdriver\n",
    "from selenium.webdriver.common.by import By\n",
    "from selenium.webdriver.common.keys import Keys\n",
    "from selenium.webdriver.support.ui import Select\n",
    "import selenium.webdriver.support.ui as ui\n",
    "from selenium.webdriver.support.ui import WebDriverWait\n",
    "from selenium.common.exceptions import TimeoutException\n",
    "import selenium.webdriver.support.expected_conditions as EC\n",
    "from selenium.common.exceptions import NoSuchElementException\n",
    "from selenium.common.exceptions import NoAlertPresentException\n",
    "import sys\n",
    "import os\n",
    "import time\n",
    "import unittest, re\n",
    "from bs4 import BeautifulSoup as bs\n",
    "\n",
    "import pandas as pd\n",
    "\n",
    "\n",
    "browser = webdriver.Chrome(r'C:\\webdrivers\\chromedriver.exe')\n",
    "#browser = webdriver.chromedriver()\n",
    "#driver = webdriver.Chrome(r'C:\\webdrivers\\chromedriver.exe')\n",
    "\n",
    "# Tell Selenium to get the URL \n",
    "browser.get(\"https://www.vivino.com/explore?e=eJwdyjsKgDAURNHdTCkasZzOHYiViDxjDAETJQl-dq_Y3NNcH1kXDbwLVBW83FRlCf2w76C_tDhYwa48JTqTZcM-M0p2waZJThPFGuxcTNK48jB-849Cos4vingfEA==\")\n",
    "\n",
    "# Selenium script to scroll to the bottom, wait 3 seconds for the next batch of data to load, then continue scrolling.  It will continue to do this until the page stops loading new data.\n",
    "lenOfPage = browser.execute_script(\"window.scrollTo(0, document.body.scrollHeight);var lenOfPage=document.body.scrollHeight;return lenOfPage;\")\n",
    "match=False\n",
    "while(match==False):\n",
    "    lastCount = lenOfPage\n",
    "    time.sleep(3)\n",
    "    lenOfPage = browser.execute_script(\"window.scrollTo(0, document.body.scrollHeight);var lenOfPage=document.body.scrollHeight;return lenOfPage;\")\n",
    "    if lastCount==lenOfPage:\n",
    "        match=True\n",
    "\n",
    "# Now that the page is fully scrolled, grab the source code.\n",
    "# changed driver to browser in code below\n",
    "#file_A=browser.find_element_by_class_name('explorerPage__results--3wqLw')\n",
    "#print(file_A.text)\n",
    "\n",
    "#pos= 0\n",
    "#df = pd.DataFrame(columns=['winery','wine','location','rating','price'])\n",
    "\n",
    "for ol in browser.find_elements_by_id(\"explorerPage__results--3wqLw\"):\n",
    "                                      \n",
    "#\n",
    "# //html/body/div[2]/div[4]/div/div/div[2]/div[2].get_attribute(\"innerHTML\")\n",
    "#    //*[@id=\"explore-page-app\"]/div/div/div[2]/div[2] \n",
    "#    /html/body/div[2]/div[4]/div/div/div[2]/div[2]\n",
    "#.text\n",
    "#.get_attribute(\"innerHTML\")\n",
    "#driver.find_element_by_xpath('/html/body/form/table[4]/tbody/tr/td/table/tbody/tr/td/div[3]/a/div[2]/span[1]').click()\n",
    "    \n",
    "    # make one empty list for each column    \n",
    "    winery_list, wine_list, loc_list, rating_list, price_list = [], [], [], [], []\n",
    "\n",
    "    #I got 46 and 59 to clear, I can't figure out syntax error on 60 yet\n",
    "    \n",
    "    #<span class=\"vintageTitle__wine--U7t9G\">Kayli Morgan Vineyard Cabernet Sauvignon 2015</span>\n",
    "            \n",
    "    winery_list.append= browser.find_elements_by_id(\"vintageTitle__winery--2YoIr\")                                                                   \n",
    "    wine_list.append = browser.find_elements_by_id(\"vintageTitle__wine--U7t9G\")\n",
    "    loc_list.append = browser.find_elements_by_id(\"vintageLocation__vintageLocation--1DF0p\")\n",
    "    rating_list.append = browser.find_elements_by_id(\"vivinoRatingWide__averageValue--1zL_5\")\n",
    "    price_list.append = browser.find_elements_by_id('<button aria-label=\"Add to cart\" class=\"button__button--247vZ button__themeAddToCart--3i8L2 button__sizeDefault--3HuoB addToCartButton__addToCartButton--qZv9F explorerCard__button--3HZ-g\" type=\"button\"><span class=>'\n",
    "    \n",
    "    \n",
    "    #winery_list.append(browser.find_elements_by_xpath('//*[@id=\"explore-page-app\"]/div/div/div[2]/div[2]/div[1]/div[1]/div[2]/div[1]/a/span[1]').text\n",
    "    #wine_list.append(browser.find_elements_by_xpath('//*[@id=\"explore-page-app\"]/div/div/div[2]/div[2]/div[1]/div[1]/div[2]/div[1]/a/span[2])'.text\n",
    "    #loc_list.append(browser.find_elements_by_xpath('//*[@id=\"explore-page-app\"]/div/div/div[2]/div[2]/div[1]/div[1]/div[2]/div[1]/div').text\n",
    "    #rating_list.append(browser.find_elements_by_xpath('//*[@id=\"explore-page-app\"]/div/div/div[2]/div[2]/div[1]/div[1]/div[2]/div[2]/div/div/div[1]').text\n",
    "    #price_list.append(browser.find_elements_by_xpath('//*[@id=\"explore-page-app\"]/div/div/div[2]/div[2]/div[1]/div[1]/div[2]/div[2]/button/span').text                      \n",
    "\n",
    "print(winery_list)\n",
    "print(wine_list)\n",
    "print(loc_list)                                                    \n"
   ]
  },
  {
   "cell_type": "code",
   "execution_count": null,
   "metadata": {},
   "outputs": [],
   "source": []
  },
  {
   "cell_type": "code",
   "execution_count": null,
   "metadata": {},
   "outputs": [],
   "source": []
  }
 ],
 "metadata": {
  "kernelspec": {
   "display_name": "Python 3",
   "language": "python",
   "name": "python3"
  },
  "language_info": {
   "codemirror_mode": {
    "name": "ipython",
    "version": 3
   },
   "file_extension": ".py",
   "mimetype": "text/x-python",
   "name": "python",
   "nbconvert_exporter": "python",
   "pygments_lexer": "ipython3",
   "version": "3.7.4"
  }
 },
 "nbformat": 4,
 "nbformat_minor": 2
}
