{
 "cells": [
  {
   "cell_type": "code",
   "execution_count": 1,
   "metadata": {},
   "outputs": [],
   "source": [
    "#Importing packages\n",
    "\n",
    "import pandas as pd\n",
    "\n",
    "import selenium\n",
    "from selenium import webdriver\n",
    "from selenium.webdriver.common.by import By\n",
    "from selenium.webdriver.common.keys import Keys\n",
    "from selenium.webdriver.support.ui import Select\n",
    "import selenium.webdriver.support.ui as ui\n",
    "from selenium.webdriver.support.ui import WebDriverWait\n",
    "from selenium.common.exceptions import TimeoutException\n",
    "from selenium.webdriver.common.by import By\n",
    "import selenium.webdriver.support.expected_conditions as EC\n",
    "from selenium.common.exceptions import NoSuchElementException\n",
    "from selenium.common.exceptions import NoAlertPresentException\n",
    "import sys\n",
    "import os\n",
    "import time\n",
    "import unittest, re\n"
   ]
  },
  {
   "cell_type": "code",
   "execution_count": 2,
   "metadata": {},
   "outputs": [],
   "source": [
    "#driver = webdriver.Chrome(r'C:\\webdrivers\\chromedriver.exe')"
   ]
  },
  {
   "cell_type": "code",
   "execution_count": 3,
   "metadata": {},
   "outputs": [],
   "source": [
    "#driver.get('https://www.vivino.com/explore?e=eJwdyjsKgDAURNHdTCkasZzOHYiViDxjDAETJQl-dq_Y3NNcH1kXDbwLVBW83FRlCf2w76C_tDhYwa48JTqTZcM-M0p2waZJThPFGuxcTNK48jB-849Cos4vingfEA==')"
   ]
  },
  {
   "cell_type": "code",
   "execution_count": 4,
   "metadata": {},
   "outputs": [],
   "source": [
    "#driver.find_element_by_class_name('explorerPage__results--3wqLw')"
   ]
  },
  {
   "cell_type": "code",
   "execution_count": 5,
   "metadata": {},
   "outputs": [],
   "source": [
    "#file_A=driver.find_element_by_class_name('explorerPage__results--3wqLw')\n",
    "#print(file_A.text)"
   ]
  },
  {
   "cell_type": "code",
   "execution_count": 6,
   "metadata": {},
   "outputs": [],
   "source": [
    "#file_A=driver.find_element_by_class_name('explorerPage__results--3wqLw')\n",
    "#print(file_A.text)"
   ]
  },
  {
   "cell_type": "code",
   "execution_count": 7,
   "metadata": {},
   "outputs": [
    {
     "name": "stderr",
     "output_type": "stream",
     "text": [
      "E\n",
      "======================================================================\n",
      "ERROR: C:\\Users\\tonyb\\AppData\\Roaming\\jupyter\\runtime\\kernel-a72be801-55ce-46ff-8327-dd554152b932 (unittest.loader._FailedTest)\n",
      "----------------------------------------------------------------------\n",
      "AttributeError: module '__main__' has no attribute 'C:\\Users\\tonyb\\AppData\\Roaming\\jupyter\\runtime\\kernel-a72be801-55ce-46ff-8327-dd554152b932'\n",
      "\n",
      "----------------------------------------------------------------------\n",
      "Ran 1 test in 0.002s\n",
      "\n",
      "FAILED (errors=1)\n"
     ]
    },
    {
     "ename": "SystemExit",
     "evalue": "True",
     "output_type": "error",
     "traceback": [
      "An exception has occurred, use %tb to see the full traceback.\n",
      "\u001b[1;31mSystemExit\u001b[0m\u001b[1;31m:\u001b[0m True\n"
     ]
    },
    {
     "name": "stderr",
     "output_type": "stream",
     "text": [
      "C:\\Users\\tonyb\\AppData\\Local\\Continuum\\anaconda3\\lib\\site-packages\\IPython\\core\\interactiveshell.py:3334: UserWarning: To exit: use 'exit', 'quit', or Ctrl-D.\n",
      "  warn(\"To exit: use 'exit', 'quit', or Ctrl-D.\", stacklevel=1)\n"
     ]
    }
   ],
   "source": [
    "\n",
    "class Sel(unittest.TestCase):\n",
    "    def setUp(self):\n",
    "        self.driver = webdriver.chromedriver()\n",
    "        self.driver.implicitly_wait(30)\n",
    "        self.base_url = 'https://www.vivino.com/explore?e=eJwdyjsKgDAURNHdTCkasZzOHYiViDxjDAETJQl-dq_Y3NNcH1kXDbwLVBW83FRlCf2w76C_tDhYwa48JTqTZcM-M0p2waZJThPFGuxcTNK48jB-849Cos4vingfEA=='\n",
    "        self.verificationErrors = []\n",
    "        self.accept_next_alert = True\n",
    "    def test_sel(self):\n",
    "        driver = self.driver\n",
    "        delay = 3\n",
    "        driver.get(self.base_url + \"/search?q=stackoverflow&src=typd\")\n",
    "        driver.find_element_by_class_name(\"explorerPage__results--3wqLw\").click()\n",
    "        for i in range(1,100):\n",
    "            self.driver.execute_script(\"window.scrollTo(0, document.body.scrollHeight);\")\n",
    "            time.sleep(4)\n",
    "        html_source = driver.page_source\n",
    "        data = html_source.encode('utf-8')\n",
    "\n",
    "\n",
    "if __name__ == \"__main__\":\n",
    "    unittest.main()"
   ]
  },
  {
   "cell_type": "code",
   "execution_count": null,
   "metadata": {},
   "outputs": [],
   "source": []
  }
 ],
 "metadata": {
  "kernelspec": {
   "display_name": "Python 3",
   "language": "python",
   "name": "python3"
  },
  "language_info": {
   "codemirror_mode": {
    "name": "ipython",
    "version": 3
   },
   "file_extension": ".py",
   "mimetype": "text/x-python",
   "name": "python",
   "nbconvert_exporter": "python",
   "pygments_lexer": "ipython3",
   "version": "3.7.4"
  }
 },
 "nbformat": 4,
 "nbformat_minor": 2
}
