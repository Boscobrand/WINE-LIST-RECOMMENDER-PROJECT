{
 "cells": [
  {
   "cell_type": "code",
   "execution_count": 9,
   "metadata": {},
   "outputs": [
    {
     "ename": "TypeError",
     "evalue": "'str' object is not callable",
     "output_type": "error",
     "traceback": [
      "\u001b[1;31m---------------------------------------------------------------------------\u001b[0m",
      "\u001b[1;31mTypeError\u001b[0m                                 Traceback (most recent call last)",
      "\u001b[1;32m<ipython-input-9-2907945fedc3>\u001b[0m in \u001b[0;36m<module>\u001b[1;34m\u001b[0m\n\u001b[0;32m     44\u001b[0m \u001b[0mdf\u001b[0m \u001b[1;33m=\u001b[0m \u001b[0mpd\u001b[0m\u001b[1;33m.\u001b[0m\u001b[0mDataFrame\u001b[0m\u001b[1;33m(\u001b[0m\u001b[0mcolumns\u001b[0m\u001b[1;33m=\u001b[0m\u001b[1;33m[\u001b[0m\u001b[1;34m'winery'\u001b[0m\u001b[1;33m,\u001b[0m\u001b[1;34m'wine'\u001b[0m\u001b[1;33m,\u001b[0m\u001b[1;34m'location'\u001b[0m\u001b[1;33m,\u001b[0m\u001b[1;34m'rating'\u001b[0m\u001b[1;33m,\u001b[0m\u001b[1;34m'price'\u001b[0m\u001b[1;33m]\u001b[0m\u001b[1;33m)\u001b[0m\u001b[1;33m\u001b[0m\u001b[1;33m\u001b[0m\u001b[0m\n\u001b[0;32m     45\u001b[0m \u001b[1;33m\u001b[0m\u001b[0m\n\u001b[1;32m---> 46\u001b[1;33m \u001b[1;32mfor\u001b[0m \u001b[0mol\u001b[0m \u001b[1;32min\u001b[0m \u001b[0mbrowser\u001b[0m\u001b[1;33m.\u001b[0m\u001b[0mfind_elements\u001b[0m\u001b[1;33m(\u001b[0m\u001b[0mBy\u001b[0m\u001b[1;33m.\u001b[0m\u001b[0mXPATH\u001b[0m\u001b[1;33m(\u001b[0m\u001b[1;34m'/html/body/div[2]/div[4]/div/div/div[2]/div[2]'\u001b[0m\u001b[1;33m)\u001b[0m\u001b[1;33m)\u001b[0m\u001b[1;33m.\u001b[0m\u001b[0mget_attribute\u001b[0m\u001b[1;33m(\u001b[0m\u001b[1;34m\"innerHTML\"\u001b[0m\u001b[1;33m)\u001b[0m\u001b[1;33m:\u001b[0m\u001b[1;33m\u001b[0m\u001b[1;33m\u001b[0m\u001b[0m\n\u001b[0m\u001b[0;32m     47\u001b[0m \u001b[1;33m\u001b[0m\u001b[0m\n\u001b[0;32m     48\u001b[0m \u001b[1;31m#    //*[@id=\"explore-page-app\"]/div/div/div[2]/div[2]\u001b[0m\u001b[1;33m\u001b[0m\u001b[1;33m\u001b[0m\u001b[1;33m\u001b[0m\u001b[0m\n",
      "\u001b[1;31mTypeError\u001b[0m: 'str' object is not callable"
     ]
    }
   ],
   "source": [
    "import time\n",
    "from selenium import webdriver\n",
    "from selenium.webdriver.common.by import By\n",
    "from selenium.webdriver.common.keys import Keys\n",
    "from selenium.webdriver.support.ui import Select\n",
    "import selenium.webdriver.support.ui as ui\n",
    "from selenium.webdriver.support.ui import WebDriverWait\n",
    "from selenium.common.exceptions import TimeoutException\n",
    "import selenium.webdriver.support.expected_conditions as EC\n",
    "from selenium.common.exceptions import NoSuchElementException\n",
    "from selenium.common.exceptions import NoAlertPresentException\n",
    "import sys\n",
    "import os\n",
    "import time\n",
    "import unittest, re\n",
    "from bs4 import BeautifulSoup as bs\n",
    "\n",
    "import pandas as pd\n",
    "\n",
    "\n",
    "browser = webdriver.Chrome(r'C:\\webdrivers\\chromedriver.exe')\n",
    "#browser = webdriver.chromedriver()\n",
    "#driver = webdriver.Chrome(r'C:\\webdrivers\\chromedriver.exe')\n",
    "\n",
    "# Tell Selenium to get the URL \n",
    "browser.get(\"https://www.vivino.com/explore?e=eJwdyjsKgDAURNHdTCkasZzOHYiViDxjDAETJQl-dq_Y3NNcH1kXDbwLVBW83FRlCf2w76C_tDhYwa48JTqTZcM-M0p2waZJThPFGuxcTNK48jB-849Cos4vingfEA==\")\n",
    "\n",
    "# Selenium script to scroll to the bottom, wait 3 seconds for the next batch of data to load, then continue scrolling.  It will continue to do this until the page stops loading new data.\n",
    "lenOfPage = browser.execute_script(\"window.scrollTo(0, document.body.scrollHeight);var lenOfPage=document.body.scrollHeight;return lenOfPage;\")\n",
    "match=False\n",
    "while(match==False):\n",
    "    lastCount = lenOfPage\n",
    "    time.sleep(3)\n",
    "    lenOfPage = browser.execute_script(\"window.scrollTo(0, document.body.scrollHeight);var lenOfPage=document.body.scrollHeight;return lenOfPage;\")\n",
    "    if lastCount==lenOfPage:\n",
    "        match=True\n",
    "\n",
    "# Now that the page is fully scrolled, grab the source code.\n",
    "# changed driver to browser in code below\n",
    "#file_A=browser.find_element_by_class_name('explorerPage__results--3wqLw')\n",
    "#print(file_A.text)\n",
    "\n",
    "pos= 0\n",
    "df = pd.DataFrame(columns=['winery','wine','location','rating','price'])\n",
    "\n",
    "for ol in browser.find_elements(By.XPATH('/html/body/div[2]/div[4]/div/div/div[2]/div[2]')).get_attribute(\"innerHTML\"):\n",
    "    \n",
    "#    //*[@id=\"explore-page-app\"]/div/div/div[2]/div[2] \n",
    "#    /html/body/div[2]/div[4]/div/div/div[2]/div[2]\n",
    "#.text\n",
    "#.get_attribute(\"innerHTML\")\n",
    "#driver.find_element_by_xpath('/html/body/form/table[4]/tbody/tr/td/table/tbody/tr/td/div[3]/a/div[2]/span[1]').click()\n",
    "    \n",
    "    # make one empty list for each column    \n",
    "    winery_list, wine_list, loc_list, rating_list, price_list = [], [], [], [], []\n",
    "    \n",
    "    winery_list.append(browser.find_element_by_xpath('//*[@id=\"explore-page-app\"]/div/div/div[2]/div[2]/div[1]/div[1]/div[2]/div[1]/a/span[1]').text)\n",
    "    wine_list.append(browser.find_element_by_xpath('//*[@id=\"explore-page-app\"]/div/div/div[2]/div[2]/div[1]/div[1]/div[2]/div[1]/a/span[2]').text)\n",
    "    loc_list.append(browser.find_element_by_xpath('//*[@id=\"explore-page-app\"]/div/div/div[2]/div[2]/div[1]/div[1]/div[2]/div[1]/div').text)\n",
    "    rating_list.append(browser.find_element_by_xpath('//*[@id=\"explore-page-app\"]/div/div/div[2]/div[2]/div[1]/div[1]/div[2]/div[2]/div/div/div[1]').text)\n",
    "    price_list.append(browser.find_element_by_xpath('//*[@id=\"explore-page-app\"]/div/div/div[2]/div[2]/div[1]/div[1]/div[2]/div[2]/button/span').text)\n",
    "\n",
    "df = pd.DataFrame({\n",
    "        'winery': winery_list,\n",
    "        'wine': wine_list,\n",
    "        'location': loc_list,\n",
    "        'rating': rating_list,\n",
    "        'price': price_list\n",
    "    })\n",
    "df.head()"
   ]
  },
  {
   "cell_type": "code",
   "execution_count": 6,
   "metadata": {},
   "outputs": [],
   "source": [
    "#foo = ['raff', 'dog', 'cat']\n",
    "#bar = [1,2,3]"
   ]
  },
  {
   "cell_type": "code",
   "execution_count": 7,
   "metadata": {},
   "outputs": [
    {
     "data": {
      "text/html": [
       "<div>\n",
       "<style scoped>\n",
       "    .dataframe tbody tr th:only-of-type {\n",
       "        vertical-align: middle;\n",
       "    }\n",
       "\n",
       "    .dataframe tbody tr th {\n",
       "        vertical-align: top;\n",
       "    }\n",
       "\n",
       "    .dataframe thead th {\n",
       "        text-align: right;\n",
       "    }\n",
       "</style>\n",
       "<table border=\"1\" class=\"dataframe\">\n",
       "  <thead>\n",
       "    <tr style=\"text-align: right;\">\n",
       "      <th></th>\n",
       "      <th>col1</th>\n",
       "      <th>col2</th>\n",
       "    </tr>\n",
       "  </thead>\n",
       "  <tbody>\n",
       "    <tr>\n",
       "      <td>0</td>\n",
       "      <td>raff</td>\n",
       "      <td>1</td>\n",
       "    </tr>\n",
       "    <tr>\n",
       "      <td>1</td>\n",
       "      <td>dog</td>\n",
       "      <td>2</td>\n",
       "    </tr>\n",
       "    <tr>\n",
       "      <td>2</td>\n",
       "      <td>cat</td>\n",
       "      <td>3</td>\n",
       "    </tr>\n",
       "  </tbody>\n",
       "</table>\n",
       "</div>"
      ],
      "text/plain": [
       "   col1  col2\n",
       "0  raff     1\n",
       "1   dog     2\n",
       "2   cat     3"
      ]
     },
     "execution_count": 7,
     "metadata": {},
     "output_type": "execute_result"
    }
   ],
   "source": [
    "#pd.DataFrame({\n",
    "#    'col1': foo,\n",
    "#    'col2': bar\n",
    "#})"
   ]
  },
  {
   "cell_type": "code",
   "execution_count": null,
   "metadata": {},
   "outputs": [],
   "source": [
    "#df.head()"
   ]
  },
  {
   "cell_type": "markdown",
   "metadata": {},
   "source": [
    "### MARKDOWN\n",
    "```python\n",
    "def get_vivino_info(row):\n",
    "    driver.get('https://www.vivino.com/explore?e=eJwdyjsKgDAURNHdTCkasZzOHYiViDxjDAETJQl-dq_Y3NNcH1kXDbwLVBW83FRlCf2w76C_tDhYwa48JTqTZcM-M0p2waZJThPFGuxcTNK48jB-849Cos4vingfEA==' + row['slug'])\n",
    "\n",
    "    winery = driver.find_element_by_class_name(\"vintageTitle__winery--2YoIr>\").text                                                                   \n",
    "    wine = driver.find_element_by_class_name(\"vintageTitle__wine--U7t9G\").text\n",
    "    location = driver.find_element_by_class_name(\"vintageLocation__vintageLocation--1DF0p\").text\n",
    "    rating = driver.find_element_by_class_name(\"vivinoRatingWide__averageValue--1zL_5\").text\n",
    "    price = driver.find_element_by_class_name(\"<span class=\"\">$75.99</span>\").text\n",
    "\n",
    "    return pd.Series({\n",
    "        'winery': winery,\n",
    "        'wine': wine,\n",
    "        'location': location,\n",
    "        'rating': rating,\n",
    "        'price': price\n",
    "    })```"
   ]
  },
  {
   "cell_type": "markdown",
   "metadata": {},
   "source": [
    "### markdown\n",
    "```python\n",
    "\n",
    "//get the attribute value first.\n",
    "\n",
    "String date = driver.findElement(By.xpath(\"//div[@class='game-date-time']/span[@data-behavior='date_time']\")).getAttribute(\"data-date\");\n",
    "\n",
    "// parsing for'z'.\n",
    "\n",
    "String parts[] = date.split(\"z\");\n",
    "\n",
    "// to get fist portion.\n",
    "\n",
    "String dateParsed = parts[0]; //which should be \"2017-03-11T04:50\"\n",
    "```"
   ]
  },
  {
   "cell_type": "markdown",
   "metadata": {},
   "source": [
    "### markdown\n",
    "```python\n",
    "\n",
    "#price = \n",
    "\n",
    "//*[@id=\"explore-page-app\"]/div/div/div[2]/div[2]/div[1]/div[1]/div[2]/div[2]/button/span\n",
    "\n",
    "//*[@id=\"explore-page-app\"]/div/div/div[2]/div[2]/div[1]/div[1]/div[2]/div[2]/button/span\n",
    "\n",
    "document.querySelector(\"#explore-page-app > div > div > div.explorerPage__columns--1TTaK > div.explorerPage__results--3wqLw > div:nth-child(1) > div:nth-child(1) > div.explorerCard__titleColumn--28kWX > div.explorerCard__ratingAndPrice--2dw-T > button > span\")\n",
    "```"
   ]
  },
  {
   "cell_type": "markdown",
   "metadata": {},
   "source": [
    "#### MARKDOWN\n",
    "\n",
    "\n",
    "//*[@id=\"explore-page-app\"]/div/div/div[2]/div[2]/div[1]/div[1]/div[2]/div[1]/a/span[1]"
   ]
  },
  {
   "cell_type": "markdown",
   "metadata": {},
   "source": [
    "### MARKDOWN\n",
    "\n",
    "\n",
    "\n",
    "\n",
    "for ol in browser.find_elements_by_class_name('explorerPage__results--3wqLw'):\n",
    "    data = []\n",
    "    \n",
    "    winery = browser.find_element_by_class_name(\"vintageTitle__winery--2YoIr\").text                                                                   \n",
    "    wine = browser.find_element_by_class_name(\"vintageTitle__wine--U7t9G\").text\n",
    "    location = browser.find_element_by_class_name(\"vintageLocation__vintageLocation--1DF0p\").text\n",
    "    rating = browser.find_element_by_class_name(\"vivinoRatingWide__averageValue--1zL_5\").text\n",
    "    price = browser.find_element_by_class_name(\"<span class=\"\">$75.99</span>\").text \n"
   ]
  },
  {
   "cell_type": "code",
   "execution_count": null,
   "metadata": {},
   "outputs": [],
   "source": []
  }
 ],
 "metadata": {
  "kernelspec": {
   "display_name": "Python 3",
   "language": "python",
   "name": "python3"
  },
  "language_info": {
   "codemirror_mode": {
    "name": "ipython",
    "version": 3
   },
   "file_extension": ".py",
   "mimetype": "text/x-python",
   "name": "python",
   "nbconvert_exporter": "python",
   "pygments_lexer": "ipython3",
   "version": "3.7.4"
  }
 },
 "nbformat": 4,
 "nbformat_minor": 2
}
