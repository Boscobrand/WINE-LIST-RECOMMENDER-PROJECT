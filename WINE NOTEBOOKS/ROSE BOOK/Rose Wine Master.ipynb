{
 "cells": [
  {
   "cell_type": "code",
   "execution_count": 2,
   "metadata": {},
   "outputs": [],
   "source": [
    "import pandas as pd\n",
    "import numpy as np\n",
    "import matplotlib.pyplot as plt\n",
    "import seaborn as sns"
   ]
  },
  {
   "cell_type": "code",
   "execution_count": 46,
   "metadata": {},
   "outputs": [],
   "source": [
    "rose_df=pd.read_csv('../scraped_data/wine_file_rose_rating.csv')"
   ]
  },
  {
   "cell_type": "code",
   "execution_count": 47,
   "metadata": {
    "scrolled": true
   },
   "outputs": [
    {
     "data": {
      "text/html": [
       "<div>\n",
       "<style scoped>\n",
       "    .dataframe tbody tr th:only-of-type {\n",
       "        vertical-align: middle;\n",
       "    }\n",
       "\n",
       "    .dataframe tbody tr th {\n",
       "        vertical-align: top;\n",
       "    }\n",
       "\n",
       "    .dataframe thead th {\n",
       "        text-align: right;\n",
       "    }\n",
       "</style>\n",
       "<table border=\"1\" class=\"dataframe\">\n",
       "  <thead>\n",
       "    <tr style=\"text-align: right;\">\n",
       "      <th></th>\n",
       "      <th>Unnamed: 0</th>\n",
       "      <th>winery</th>\n",
       "      <th>wine</th>\n",
       "      <th>location</th>\n",
       "      <th>rating</th>\n",
       "      <th>price</th>\n",
       "    </tr>\n",
       "  </thead>\n",
       "  <tbody>\n",
       "    <tr>\n",
       "      <td>0</td>\n",
       "      <td>0</td>\n",
       "      <td>Château d'Esclans</td>\n",
       "      <td>Garrus Rosé 2017</td>\n",
       "      <td>France\\n·\\nCôtes de Provence</td>\n",
       "      <td>4.5</td>\n",
       "      <td>$99.99</td>\n",
       "    </tr>\n",
       "    <tr>\n",
       "      <td>1</td>\n",
       "      <td>1</td>\n",
       "      <td>Gérard Bertrand</td>\n",
       "      <td>Clos du Temple 2018</td>\n",
       "      <td>France\\n·\\nLanguedoc</td>\n",
       "      <td>4.5</td>\n",
       "      <td>$167.99</td>\n",
       "    </tr>\n",
       "    <tr>\n",
       "      <td>2</td>\n",
       "      <td>2</td>\n",
       "      <td>Château d'Esclans</td>\n",
       "      <td>Garrus Rosé N.V.</td>\n",
       "      <td>France\\n·\\nCôtes de Provence</td>\n",
       "      <td>4.4</td>\n",
       "      <td>$89.99</td>\n",
       "    </tr>\n",
       "    <tr>\n",
       "      <td>3</td>\n",
       "      <td>3</td>\n",
       "      <td>Minuty</td>\n",
       "      <td>281 Rosé 2017</td>\n",
       "      <td>France\\n·\\nProvence</td>\n",
       "      <td>4.4</td>\n",
       "      <td>$171.99</td>\n",
       "    </tr>\n",
       "    <tr>\n",
       "      <td>4</td>\n",
       "      <td>4</td>\n",
       "      <td>Domaine de l'Abbaye</td>\n",
       "      <td>Clos Beylesse Côtes de Provence Rosé 2018</td>\n",
       "      <td>France\\n·\\nCôtes de Provence</td>\n",
       "      <td>4.4</td>\n",
       "      <td>$29.99</td>\n",
       "    </tr>\n",
       "    <tr>\n",
       "      <td>...</td>\n",
       "      <td>...</td>\n",
       "      <td>...</td>\n",
       "      <td>...</td>\n",
       "      <td>...</td>\n",
       "      <td>...</td>\n",
       "      <td>...</td>\n",
       "    </tr>\n",
       "    <tr>\n",
       "      <td>315</td>\n",
       "      <td>315</td>\n",
       "      <td>Blue Valley</td>\n",
       "      <td>Rosé N.V.</td>\n",
       "      <td>United States\\n·\\nVirginia</td>\n",
       "      <td>3.5</td>\n",
       "      <td>View shops</td>\n",
       "    </tr>\n",
       "    <tr>\n",
       "      <td>316</td>\n",
       "      <td>316</td>\n",
       "      <td>Hesketh</td>\n",
       "      <td>Wild at Heart Rosé N.V.</td>\n",
       "      <td>Australia\\n·\\nSouth Australia</td>\n",
       "      <td>3.5</td>\n",
       "      <td>View shops</td>\n",
       "    </tr>\n",
       "    <tr>\n",
       "      <td>317</td>\n",
       "      <td>317</td>\n",
       "      <td>Domaine de Tamary</td>\n",
       "      <td>Côtes de Provence Rosé 2014</td>\n",
       "      <td>France\\n·\\nCôtes de Provence</td>\n",
       "      <td>3.4</td>\n",
       "      <td>View shops</td>\n",
       "    </tr>\n",
       "    <tr>\n",
       "      <td>318</td>\n",
       "      <td>318</td>\n",
       "      <td>Zurab Topuridze</td>\n",
       "      <td>Chkhaveri Dry Rosé (ჩხავერი ვარდისფერი) 2012</td>\n",
       "      <td>Georgia\\n·\\nKakheti</td>\n",
       "      <td>3.3</td>\n",
       "      <td>View shops</td>\n",
       "    </tr>\n",
       "    <tr>\n",
       "      <td>319</td>\n",
       "      <td>319</td>\n",
       "      <td>Tsantali</td>\n",
       "      <td>Agioritikos Rosé N.V.</td>\n",
       "      <td>Greece\\n·\\nMacedonia</td>\n",
       "      <td>3.1</td>\n",
       "      <td>View shops</td>\n",
       "    </tr>\n",
       "  </tbody>\n",
       "</table>\n",
       "<p>320 rows × 6 columns</p>\n",
       "</div>"
      ],
      "text/plain": [
       "     Unnamed: 0               winery  \\\n",
       "0             0    Château d'Esclans   \n",
       "1             1      Gérard Bertrand   \n",
       "2             2    Château d'Esclans   \n",
       "3             3               Minuty   \n",
       "4             4  Domaine de l'Abbaye   \n",
       "..          ...                  ...   \n",
       "315         315          Blue Valley   \n",
       "316         316              Hesketh   \n",
       "317         317    Domaine de Tamary   \n",
       "318         318      Zurab Topuridze   \n",
       "319         319             Tsantali   \n",
       "\n",
       "                                             wine  \\\n",
       "0                                Garrus Rosé 2017   \n",
       "1                             Clos du Temple 2018   \n",
       "2                                Garrus Rosé N.V.   \n",
       "3                                   281 Rosé 2017   \n",
       "4       Clos Beylesse Côtes de Provence Rosé 2018   \n",
       "..                                            ...   \n",
       "315                                     Rosé N.V.   \n",
       "316                       Wild at Heart Rosé N.V.   \n",
       "317                   Côtes de Provence Rosé 2014   \n",
       "318  Chkhaveri Dry Rosé (ჩხავერი ვარდისფერი) 2012   \n",
       "319                         Agioritikos Rosé N.V.   \n",
       "\n",
       "                          location  rating       price  \n",
       "0     France\\n·\\nCôtes de Provence     4.5      $99.99  \n",
       "1             France\\n·\\nLanguedoc     4.5     $167.99  \n",
       "2     France\\n·\\nCôtes de Provence     4.4      $89.99  \n",
       "3              France\\n·\\nProvence     4.4     $171.99  \n",
       "4     France\\n·\\nCôtes de Provence     4.4      $29.99  \n",
       "..                             ...     ...         ...  \n",
       "315     United States\\n·\\nVirginia     3.5  View shops  \n",
       "316  Australia\\n·\\nSouth Australia     3.5  View shops  \n",
       "317   France\\n·\\nCôtes de Provence     3.4  View shops  \n",
       "318            Georgia\\n·\\nKakheti     3.3  View shops  \n",
       "319           Greece\\n·\\nMacedonia     3.1  View shops  \n",
       "\n",
       "[320 rows x 6 columns]"
      ]
     },
     "execution_count": 47,
     "metadata": {},
     "output_type": "execute_result"
    }
   ],
   "source": [
    "rose_df"
   ]
  },
  {
   "cell_type": "code",
   "execution_count": 10,
   "metadata": {},
   "outputs": [
    {
     "name": "stdout",
     "output_type": "stream",
     "text": [
      "<class 'pandas.core.frame.DataFrame'>\n",
      "RangeIndex: 320 entries, 0 to 319\n",
      "Data columns (total 6 columns):\n",
      "Unnamed: 0    320 non-null int64\n",
      "winery        320 non-null object\n",
      "wine          320 non-null object\n",
      "location      320 non-null object\n",
      "rating        320 non-null float64\n",
      "price         320 non-null object\n",
      "dtypes: float64(1), int64(1), object(4)\n",
      "memory usage: 15.1+ KB\n"
     ]
    }
   ],
   "source": [
    "rose_df.info()"
   ]
  },
  {
   "cell_type": "code",
   "execution_count": 11,
   "metadata": {},
   "outputs": [],
   "source": [
    "rose_df.drop(['Unnamed: 0'],axis=1,inplace=True)"
   ]
  },
  {
   "cell_type": "code",
   "execution_count": 12,
   "metadata": {},
   "outputs": [],
   "source": [
    "rose_df['wine_category']=\"Rose\""
   ]
  },
  {
   "cell_type": "code",
   "execution_count": 13,
   "metadata": {},
   "outputs": [],
   "source": [
    "rose_df[\"location\"]= rose_df[\"location\"].str.replace(\"\\n·\\n\", \"_\", case = False) "
   ]
  },
  {
   "cell_type": "code",
   "execution_count": 14,
   "metadata": {},
   "outputs": [],
   "source": [
    "rose_df[['country','region']] = rose_df.location.apply(lambda x: pd.Series(str(x).split(\"_\")))   "
   ]
  },
  {
   "cell_type": "code",
   "execution_count": 15,
   "metadata": {},
   "outputs": [
    {
     "data": {
      "text/html": [
       "<div>\n",
       "<style scoped>\n",
       "    .dataframe tbody tr th:only-of-type {\n",
       "        vertical-align: middle;\n",
       "    }\n",
       "\n",
       "    .dataframe tbody tr th {\n",
       "        vertical-align: top;\n",
       "    }\n",
       "\n",
       "    .dataframe thead th {\n",
       "        text-align: right;\n",
       "    }\n",
       "</style>\n",
       "<table border=\"1\" class=\"dataframe\">\n",
       "  <thead>\n",
       "    <tr style=\"text-align: right;\">\n",
       "      <th></th>\n",
       "      <th>winery</th>\n",
       "      <th>wine</th>\n",
       "      <th>location</th>\n",
       "      <th>rating</th>\n",
       "      <th>price</th>\n",
       "      <th>wine_category</th>\n",
       "      <th>country</th>\n",
       "      <th>region</th>\n",
       "    </tr>\n",
       "  </thead>\n",
       "  <tbody>\n",
       "    <tr>\n",
       "      <td>0</td>\n",
       "      <td>Château d'Esclans</td>\n",
       "      <td>Garrus Rosé 2017</td>\n",
       "      <td>France_Côtes de Provence</td>\n",
       "      <td>4.5</td>\n",
       "      <td>$99.99</td>\n",
       "      <td>Rose</td>\n",
       "      <td>France</td>\n",
       "      <td>Côtes de Provence</td>\n",
       "    </tr>\n",
       "    <tr>\n",
       "      <td>1</td>\n",
       "      <td>Gérard Bertrand</td>\n",
       "      <td>Clos du Temple 2018</td>\n",
       "      <td>France_Languedoc</td>\n",
       "      <td>4.5</td>\n",
       "      <td>$167.99</td>\n",
       "      <td>Rose</td>\n",
       "      <td>France</td>\n",
       "      <td>Languedoc</td>\n",
       "    </tr>\n",
       "    <tr>\n",
       "      <td>2</td>\n",
       "      <td>Château d'Esclans</td>\n",
       "      <td>Garrus Rosé N.V.</td>\n",
       "      <td>France_Côtes de Provence</td>\n",
       "      <td>4.4</td>\n",
       "      <td>$89.99</td>\n",
       "      <td>Rose</td>\n",
       "      <td>France</td>\n",
       "      <td>Côtes de Provence</td>\n",
       "    </tr>\n",
       "    <tr>\n",
       "      <td>3</td>\n",
       "      <td>Minuty</td>\n",
       "      <td>281 Rosé 2017</td>\n",
       "      <td>France_Provence</td>\n",
       "      <td>4.4</td>\n",
       "      <td>$171.99</td>\n",
       "      <td>Rose</td>\n",
       "      <td>France</td>\n",
       "      <td>Provence</td>\n",
       "    </tr>\n",
       "    <tr>\n",
       "      <td>4</td>\n",
       "      <td>Domaine de l'Abbaye</td>\n",
       "      <td>Clos Beylesse Côtes de Provence Rosé 2018</td>\n",
       "      <td>France_Côtes de Provence</td>\n",
       "      <td>4.4</td>\n",
       "      <td>$29.99</td>\n",
       "      <td>Rose</td>\n",
       "      <td>France</td>\n",
       "      <td>Côtes de Provence</td>\n",
       "    </tr>\n",
       "  </tbody>\n",
       "</table>\n",
       "</div>"
      ],
      "text/plain": [
       "                winery                                       wine  \\\n",
       "0    Château d'Esclans                           Garrus Rosé 2017   \n",
       "1      Gérard Bertrand                        Clos du Temple 2018   \n",
       "2    Château d'Esclans                           Garrus Rosé N.V.   \n",
       "3               Minuty                              281 Rosé 2017   \n",
       "4  Domaine de l'Abbaye  Clos Beylesse Côtes de Provence Rosé 2018   \n",
       "\n",
       "                   location  rating    price wine_category country  \\\n",
       "0  France_Côtes de Provence     4.5   $99.99          Rose  France   \n",
       "1          France_Languedoc     4.5  $167.99          Rose  France   \n",
       "2  France_Côtes de Provence     4.4   $89.99          Rose  France   \n",
       "3           France_Provence     4.4  $171.99          Rose  France   \n",
       "4  France_Côtes de Provence     4.4   $29.99          Rose  France   \n",
       "\n",
       "              region  \n",
       "0  Côtes de Provence  \n",
       "1          Languedoc  \n",
       "2  Côtes de Provence  \n",
       "3           Provence  \n",
       "4  Côtes de Provence  "
      ]
     },
     "execution_count": 15,
     "metadata": {},
     "output_type": "execute_result"
    }
   ],
   "source": [
    "rose_df.head()"
   ]
  },
  {
   "cell_type": "code",
   "execution_count": 16,
   "metadata": {},
   "outputs": [],
   "source": [
    "rose_df['vintage']=\"\""
   ]
  },
  {
   "cell_type": "code",
   "execution_count": 17,
   "metadata": {},
   "outputs": [],
   "source": [
    "def vintage (x):\n",
    "    rose_df.loc[rose_df['wine'].str.contains(x),'vintage']= x"
   ]
  },
  {
   "cell_type": "code",
   "execution_count": 18,
   "metadata": {},
   "outputs": [],
   "source": [
    "vintage_list = ['N.V.', '1911','1928','1961','1982','1983','1985','1986','1987','1988','1989','1990', '1991', '1992','1993','1994','1995','1996','1997','1998','1999','2000','2001','2002','2003','2004','2005','2006','2007','2008','2009','2010','2011','2012','2013','2014','2015','2016','2017','2018','2019','2020']"
   ]
  },
  {
   "cell_type": "code",
   "execution_count": 19,
   "metadata": {},
   "outputs": [],
   "source": [
    "for i in vintage_list: \n",
    "    vintage (i)"
   ]
  },
  {
   "cell_type": "code",
   "execution_count": 20,
   "metadata": {},
   "outputs": [
    {
     "data": {
      "text/plain": [
       "(N.V.    82\n",
       " 2017    69\n",
       " 2018    66\n",
       " 2016    47\n",
       " 2015    21\n",
       " 2014    13\n",
       " 2011     5\n",
       " 2012     5\n",
       " 2013     4\n",
       " 2009     2\n",
       " 2007     2\n",
       " 2004     1\n",
       " 2010     1\n",
       " 2019     1\n",
       " 2008     1\n",
       " Name: vintage, dtype: int64,)"
      ]
     },
     "execution_count": 20,
     "metadata": {},
     "output_type": "execute_result"
    }
   ],
   "source": [
    "rose_df['vintage'].value_counts(),"
   ]
  },
  {
   "cell_type": "code",
   "execution_count": 34,
   "metadata": {},
   "outputs": [],
   "source": [
    "rose_wine_style_list=['Grenache','Sangiovese','Tempranillo','Syrah','Cabernet Sauvignon','Tavel','Provence','Zinfandel','Pinot Noir','Mourvèdre','Pinot']"
   ]
  },
  {
   "cell_type": "code",
   "execution_count": 37,
   "metadata": {},
   "outputs": [],
   "source": [
    "rose_df['wine_style']=\"\""
   ]
  },
  {
   "cell_type": "code",
   "execution_count": 38,
   "metadata": {},
   "outputs": [],
   "source": [
    "#this is the function we will run to extract the winestyle from the wine column\n",
    "def winestyle(x):\n",
    "    rose_df.loc[rose_df['wine'].str.contains(x),'wine_style'] = x "
   ]
  },
  {
   "cell_type": "code",
   "execution_count": 39,
   "metadata": {},
   "outputs": [],
   "source": [
    "for i in rose_wine_style_list:\n",
    "    winestyle(i)"
   ]
  },
  {
   "cell_type": "code",
   "execution_count": 40,
   "metadata": {},
   "outputs": [],
   "source": [
    "rose_df['wine_style'] =rose_df['wine_style'].replace(\"\",'Rosé')"
   ]
  },
  {
   "cell_type": "code",
   "execution_count": 41,
   "metadata": {},
   "outputs": [
    {
     "data": {
      "text/plain": [
       "Rosé                  259\n",
       "Pinot                  26\n",
       "Provence               26\n",
       "Tavel                   3\n",
       "Grenache                2\n",
       "Sangiovese              2\n",
       "Zinfandel               1\n",
       "Cabernet Sauvignon      1\n",
       "Name: wine_style, dtype: int64"
      ]
     },
     "execution_count": 41,
     "metadata": {},
     "output_type": "execute_result"
    }
   ],
   "source": [
    "rose_df['wine_style'].value_counts()"
   ]
  },
  {
   "cell_type": "code",
   "execution_count": 43,
   "metadata": {},
   "outputs": [
    {
     "data": {
      "text/html": [
       "<div>\n",
       "<style scoped>\n",
       "    .dataframe tbody tr th:only-of-type {\n",
       "        vertical-align: middle;\n",
       "    }\n",
       "\n",
       "    .dataframe tbody tr th {\n",
       "        vertical-align: top;\n",
       "    }\n",
       "\n",
       "    .dataframe thead th {\n",
       "        text-align: right;\n",
       "    }\n",
       "</style>\n",
       "<table border=\"1\" class=\"dataframe\">\n",
       "  <thead>\n",
       "    <tr style=\"text-align: right;\">\n",
       "      <th></th>\n",
       "      <th>winery</th>\n",
       "      <th>wine</th>\n",
       "      <th>location</th>\n",
       "      <th>rating</th>\n",
       "      <th>price</th>\n",
       "      <th>wine_category</th>\n",
       "      <th>country</th>\n",
       "      <th>region</th>\n",
       "      <th>vintage</th>\n",
       "      <th>wine_style</th>\n",
       "    </tr>\n",
       "  </thead>\n",
       "  <tbody>\n",
       "    <tr>\n",
       "      <td>0</td>\n",
       "      <td>Château d'Esclans</td>\n",
       "      <td>Garrus Rosé 2017</td>\n",
       "      <td>France_Côtes de Provence</td>\n",
       "      <td>4.5</td>\n",
       "      <td>$99.99</td>\n",
       "      <td>Rose</td>\n",
       "      <td>France</td>\n",
       "      <td>Côtes de Provence</td>\n",
       "      <td>2017</td>\n",
       "      <td>Rosé</td>\n",
       "    </tr>\n",
       "    <tr>\n",
       "      <td>1</td>\n",
       "      <td>Gérard Bertrand</td>\n",
       "      <td>Clos du Temple 2018</td>\n",
       "      <td>France_Languedoc</td>\n",
       "      <td>4.5</td>\n",
       "      <td>$167.99</td>\n",
       "      <td>Rose</td>\n",
       "      <td>France</td>\n",
       "      <td>Languedoc</td>\n",
       "      <td>2018</td>\n",
       "      <td>Rosé</td>\n",
       "    </tr>\n",
       "    <tr>\n",
       "      <td>2</td>\n",
       "      <td>Château d'Esclans</td>\n",
       "      <td>Garrus Rosé N.V.</td>\n",
       "      <td>France_Côtes de Provence</td>\n",
       "      <td>4.4</td>\n",
       "      <td>$89.99</td>\n",
       "      <td>Rose</td>\n",
       "      <td>France</td>\n",
       "      <td>Côtes de Provence</td>\n",
       "      <td>N.V.</td>\n",
       "      <td>Rosé</td>\n",
       "    </tr>\n",
       "    <tr>\n",
       "      <td>3</td>\n",
       "      <td>Minuty</td>\n",
       "      <td>281 Rosé 2017</td>\n",
       "      <td>France_Provence</td>\n",
       "      <td>4.4</td>\n",
       "      <td>$171.99</td>\n",
       "      <td>Rose</td>\n",
       "      <td>France</td>\n",
       "      <td>Provence</td>\n",
       "      <td>2017</td>\n",
       "      <td>Rosé</td>\n",
       "    </tr>\n",
       "    <tr>\n",
       "      <td>4</td>\n",
       "      <td>Domaine de l'Abbaye</td>\n",
       "      <td>Clos Beylesse Côtes de Provence Rosé 2018</td>\n",
       "      <td>France_Côtes de Provence</td>\n",
       "      <td>4.4</td>\n",
       "      <td>$29.99</td>\n",
       "      <td>Rose</td>\n",
       "      <td>France</td>\n",
       "      <td>Côtes de Provence</td>\n",
       "      <td>2018</td>\n",
       "      <td>Provence</td>\n",
       "    </tr>\n",
       "  </tbody>\n",
       "</table>\n",
       "</div>"
      ],
      "text/plain": [
       "                winery                                       wine  \\\n",
       "0    Château d'Esclans                           Garrus Rosé 2017   \n",
       "1      Gérard Bertrand                        Clos du Temple 2018   \n",
       "2    Château d'Esclans                           Garrus Rosé N.V.   \n",
       "3               Minuty                              281 Rosé 2017   \n",
       "4  Domaine de l'Abbaye  Clos Beylesse Côtes de Provence Rosé 2018   \n",
       "\n",
       "                   location  rating    price wine_category country  \\\n",
       "0  France_Côtes de Provence     4.5   $99.99          Rose  France   \n",
       "1          France_Languedoc     4.5  $167.99          Rose  France   \n",
       "2  France_Côtes de Provence     4.4   $89.99          Rose  France   \n",
       "3           France_Provence     4.4  $171.99          Rose  France   \n",
       "4  France_Côtes de Provence     4.4   $29.99          Rose  France   \n",
       "\n",
       "              region vintage wine_style  \n",
       "0  Côtes de Provence    2017       Rosé  \n",
       "1          Languedoc    2018       Rosé  \n",
       "2  Côtes de Provence    N.V.       Rosé  \n",
       "3           Provence    2017       Rosé  \n",
       "4  Côtes de Provence    2018   Provence  "
      ]
     },
     "execution_count": 43,
     "metadata": {},
     "output_type": "execute_result"
    }
   ],
   "source": [
    "rose_df.head()"
   ]
  },
  {
   "cell_type": "code",
   "execution_count": 44,
   "metadata": {},
   "outputs": [
    {
     "name": "stdout",
     "output_type": "stream",
     "text": [
      "<class 'pandas.core.frame.DataFrame'>\n",
      "RangeIndex: 320 entries, 0 to 319\n",
      "Data columns (total 10 columns):\n",
      "winery           320 non-null object\n",
      "wine             320 non-null object\n",
      "location         320 non-null object\n",
      "rating           320 non-null float64\n",
      "price            320 non-null object\n",
      "wine_category    320 non-null object\n",
      "country          320 non-null object\n",
      "region           320 non-null object\n",
      "vintage          320 non-null object\n",
      "wine_style       320 non-null object\n",
      "dtypes: float64(1), object(9)\n",
      "memory usage: 25.1+ KB\n"
     ]
    }
   ],
   "source": [
    "rose_df.info()"
   ]
  },
  {
   "cell_type": "code",
   "execution_count": 45,
   "metadata": {},
   "outputs": [],
   "source": [
    "rose_df.to_csv('./rose_master.csv')"
   ]
  },
  {
   "cell_type": "code",
   "execution_count": null,
   "metadata": {},
   "outputs": [],
   "source": []
  }
 ],
 "metadata": {
  "kernelspec": {
   "display_name": "Python 3",
   "language": "python",
   "name": "python3"
  },
  "language_info": {
   "codemirror_mode": {
    "name": "ipython",
    "version": 3
   },
   "file_extension": ".py",
   "mimetype": "text/x-python",
   "name": "python",
   "nbconvert_exporter": "python",
   "pygments_lexer": "ipython3",
   "version": "3.7.4"
  }
 },
 "nbformat": 4,
 "nbformat_minor": 2
}
