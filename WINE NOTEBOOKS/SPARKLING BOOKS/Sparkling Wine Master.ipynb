{
 "cells": [
  {
   "cell_type": "code",
   "execution_count": 95,
   "metadata": {},
   "outputs": [],
   "source": [
    "import pandas as pd\n",
    "import numpy as np\n",
    "import matplotlib.pyplot as plt\n",
    "import seaborn as sns"
   ]
  },
  {
   "cell_type": "code",
   "execution_count": 96,
   "metadata": {},
   "outputs": [],
   "source": [
    "df_1=pd.read_csv('../scraped_data/wine_file_sparkling_rating.csv')\n",
    "df_2=pd.read_csv('../scraped_data/wine_file_sparkling_rating.csv')\n",
    "df_3=pd.read_csv('../scraped_data/wine_file_sparkling_rating.csv')\n",
    "df_4=pd.read_csv('../scraped_data/wine_file_sparkling_rating.csv')"
   ]
  },
  {
   "cell_type": "code",
   "execution_count": 97,
   "metadata": {},
   "outputs": [
    {
     "data": {
      "text/html": [
       "<div>\n",
       "<style scoped>\n",
       "    .dataframe tbody tr th:only-of-type {\n",
       "        vertical-align: middle;\n",
       "    }\n",
       "\n",
       "    .dataframe tbody tr th {\n",
       "        vertical-align: top;\n",
       "    }\n",
       "\n",
       "    .dataframe thead th {\n",
       "        text-align: right;\n",
       "    }\n",
       "</style>\n",
       "<table border=\"1\" class=\"dataframe\">\n",
       "  <thead>\n",
       "    <tr style=\"text-align: right;\">\n",
       "      <th></th>\n",
       "      <th>Unnamed: 0</th>\n",
       "      <th>winery</th>\n",
       "      <th>wine</th>\n",
       "      <th>location</th>\n",
       "      <th>rating</th>\n",
       "      <th>price</th>\n",
       "    </tr>\n",
       "  </thead>\n",
       "  <tbody>\n",
       "    <tr>\n",
       "      <td>0</td>\n",
       "      <td>0</td>\n",
       "      <td>Dom Pérignon</td>\n",
       "      <td>Brut Champagne 1996</td>\n",
       "      <td>France\\n·\\nChampagne</td>\n",
       "      <td>4.7</td>\n",
       "      <td>$399</td>\n",
       "    </tr>\n",
       "    <tr>\n",
       "      <td>1</td>\n",
       "      <td>1</td>\n",
       "      <td>Dom Pérignon</td>\n",
       "      <td>P2 Plénitude Brut Champagne 2002</td>\n",
       "      <td>France\\n·\\nChampagne</td>\n",
       "      <td>4.7</td>\n",
       "      <td>$349.99</td>\n",
       "    </tr>\n",
       "    <tr>\n",
       "      <td>2</td>\n",
       "      <td>2</td>\n",
       "      <td>Veuve Clicquot</td>\n",
       "      <td>La Grande Dame Brut Rosé Champagne 1998</td>\n",
       "      <td>France\\n·\\nChampagne</td>\n",
       "      <td>4.7</td>\n",
       "      <td>$299.99</td>\n",
       "    </tr>\n",
       "    <tr>\n",
       "      <td>3</td>\n",
       "      <td>3</td>\n",
       "      <td>Dom Pérignon</td>\n",
       "      <td>Brut Rosé Champagne 1993</td>\n",
       "      <td>France\\n·\\nChampagne</td>\n",
       "      <td>4.7</td>\n",
       "      <td>$450</td>\n",
       "    </tr>\n",
       "    <tr>\n",
       "      <td>4</td>\n",
       "      <td>4</td>\n",
       "      <td>Schramsberg</td>\n",
       "      <td>J. Schram Brut Rosé 2010</td>\n",
       "      <td>United States\\n·\\nNorth Coast</td>\n",
       "      <td>4.7</td>\n",
       "      <td>$177.99</td>\n",
       "    </tr>\n",
       "  </tbody>\n",
       "</table>\n",
       "</div>"
      ],
      "text/plain": [
       "   Unnamed: 0          winery                                     wine  \\\n",
       "0           0    Dom Pérignon                      Brut Champagne 1996   \n",
       "1           1    Dom Pérignon         P2 Plénitude Brut Champagne 2002   \n",
       "2           2  Veuve Clicquot  La Grande Dame Brut Rosé Champagne 1998   \n",
       "3           3    Dom Pérignon                 Brut Rosé Champagne 1993   \n",
       "4           4     Schramsberg                 J. Schram Brut Rosé 2010   \n",
       "\n",
       "                        location  rating    price  \n",
       "0           France\\n·\\nChampagne     4.7     $399  \n",
       "1           France\\n·\\nChampagne     4.7  $349.99  \n",
       "2           France\\n·\\nChampagne     4.7  $299.99  \n",
       "3           France\\n·\\nChampagne     4.7     $450  \n",
       "4  United States\\n·\\nNorth Coast     4.7  $177.99  "
      ]
     },
     "execution_count": 97,
     "metadata": {},
     "output_type": "execute_result"
    }
   ],
   "source": [
    "df_1.head()"
   ]
  },
  {
   "cell_type": "code",
   "execution_count": 6,
   "metadata": {},
   "outputs": [
    {
     "name": "stdout",
     "output_type": "stream",
     "text": [
      "<class 'pandas.core.frame.DataFrame'>\n",
      "RangeIndex: 2575 entries, 0 to 2574\n",
      "Data columns (total 6 columns):\n",
      "Unnamed: 0    2575 non-null int64\n",
      "winery        2575 non-null object\n",
      "wine          2575 non-null object\n",
      "location      2574 non-null object\n",
      "rating        2575 non-null float64\n",
      "price         2575 non-null object\n",
      "dtypes: float64(1), int64(1), object(4)\n",
      "memory usage: 120.8+ KB\n"
     ]
    }
   ],
   "source": [
    "df_1.info()"
   ]
  },
  {
   "cell_type": "code",
   "execution_count": 7,
   "metadata": {},
   "outputs": [
    {
     "data": {
      "text/html": [
       "<div>\n",
       "<style scoped>\n",
       "    .dataframe tbody tr th:only-of-type {\n",
       "        vertical-align: middle;\n",
       "    }\n",
       "\n",
       "    .dataframe tbody tr th {\n",
       "        vertical-align: top;\n",
       "    }\n",
       "\n",
       "    .dataframe thead th {\n",
       "        text-align: right;\n",
       "    }\n",
       "</style>\n",
       "<table border=\"1\" class=\"dataframe\">\n",
       "  <thead>\n",
       "    <tr style=\"text-align: right;\">\n",
       "      <th></th>\n",
       "      <th>Unnamed: 0</th>\n",
       "      <th>winery</th>\n",
       "      <th>wine</th>\n",
       "      <th>location</th>\n",
       "      <th>rating</th>\n",
       "      <th>price</th>\n",
       "    </tr>\n",
       "  </thead>\n",
       "  <tbody>\n",
       "    <tr>\n",
       "      <td>0</td>\n",
       "      <td>0</td>\n",
       "      <td>Dom Pérignon</td>\n",
       "      <td>Brut Champagne 1996</td>\n",
       "      <td>France\\n·\\nChampagne</td>\n",
       "      <td>4.7</td>\n",
       "      <td>$399</td>\n",
       "    </tr>\n",
       "    <tr>\n",
       "      <td>1</td>\n",
       "      <td>1</td>\n",
       "      <td>Dom Pérignon</td>\n",
       "      <td>P2 Plénitude Brut Champagne 2002</td>\n",
       "      <td>France\\n·\\nChampagne</td>\n",
       "      <td>4.7</td>\n",
       "      <td>$349.99</td>\n",
       "    </tr>\n",
       "    <tr>\n",
       "      <td>2</td>\n",
       "      <td>2</td>\n",
       "      <td>Veuve Clicquot</td>\n",
       "      <td>La Grande Dame Brut Rosé Champagne 1998</td>\n",
       "      <td>France\\n·\\nChampagne</td>\n",
       "      <td>4.7</td>\n",
       "      <td>$299.99</td>\n",
       "    </tr>\n",
       "    <tr>\n",
       "      <td>3</td>\n",
       "      <td>3</td>\n",
       "      <td>Dom Pérignon</td>\n",
       "      <td>Brut Rosé Champagne 1993</td>\n",
       "      <td>France\\n·\\nChampagne</td>\n",
       "      <td>4.7</td>\n",
       "      <td>$450</td>\n",
       "    </tr>\n",
       "    <tr>\n",
       "      <td>4</td>\n",
       "      <td>4</td>\n",
       "      <td>Schramsberg</td>\n",
       "      <td>J. Schram Brut Rosé 2010</td>\n",
       "      <td>United States\\n·\\nNorth Coast</td>\n",
       "      <td>4.7</td>\n",
       "      <td>$177.99</td>\n",
       "    </tr>\n",
       "  </tbody>\n",
       "</table>\n",
       "</div>"
      ],
      "text/plain": [
       "   Unnamed: 0          winery                                     wine  \\\n",
       "0           0    Dom Pérignon                      Brut Champagne 1996   \n",
       "1           1    Dom Pérignon         P2 Plénitude Brut Champagne 2002   \n",
       "2           2  Veuve Clicquot  La Grande Dame Brut Rosé Champagne 1998   \n",
       "3           3    Dom Pérignon                 Brut Rosé Champagne 1993   \n",
       "4           4     Schramsberg                 J. Schram Brut Rosé 2010   \n",
       "\n",
       "                        location  rating    price  \n",
       "0           France\\n·\\nChampagne     4.7     $399  \n",
       "1           France\\n·\\nChampagne     4.7  $349.99  \n",
       "2           France\\n·\\nChampagne     4.7  $299.99  \n",
       "3           France\\n·\\nChampagne     4.7     $450  \n",
       "4  United States\\n·\\nNorth Coast     4.7  $177.99  "
      ]
     },
     "execution_count": 7,
     "metadata": {},
     "output_type": "execute_result"
    }
   ],
   "source": [
    "df_2.head()"
   ]
  },
  {
   "cell_type": "code",
   "execution_count": 8,
   "metadata": {},
   "outputs": [
    {
     "name": "stdout",
     "output_type": "stream",
     "text": [
      "<class 'pandas.core.frame.DataFrame'>\n",
      "RangeIndex: 2575 entries, 0 to 2574\n",
      "Data columns (total 6 columns):\n",
      "Unnamed: 0    2575 non-null int64\n",
      "winery        2575 non-null object\n",
      "wine          2575 non-null object\n",
      "location      2574 non-null object\n",
      "rating        2575 non-null float64\n",
      "price         2575 non-null object\n",
      "dtypes: float64(1), int64(1), object(4)\n",
      "memory usage: 120.8+ KB\n"
     ]
    }
   ],
   "source": [
    "df_2.info()"
   ]
  },
  {
   "cell_type": "code",
   "execution_count": 9,
   "metadata": {},
   "outputs": [
    {
     "data": {
      "text/html": [
       "<div>\n",
       "<style scoped>\n",
       "    .dataframe tbody tr th:only-of-type {\n",
       "        vertical-align: middle;\n",
       "    }\n",
       "\n",
       "    .dataframe tbody tr th {\n",
       "        vertical-align: top;\n",
       "    }\n",
       "\n",
       "    .dataframe thead th {\n",
       "        text-align: right;\n",
       "    }\n",
       "</style>\n",
       "<table border=\"1\" class=\"dataframe\">\n",
       "  <thead>\n",
       "    <tr style=\"text-align: right;\">\n",
       "      <th></th>\n",
       "      <th>Unnamed: 0</th>\n",
       "      <th>winery</th>\n",
       "      <th>wine</th>\n",
       "      <th>location</th>\n",
       "      <th>rating</th>\n",
       "      <th>price</th>\n",
       "    </tr>\n",
       "  </thead>\n",
       "  <tbody>\n",
       "    <tr>\n",
       "      <td>0</td>\n",
       "      <td>0</td>\n",
       "      <td>Dom Pérignon</td>\n",
       "      <td>Brut Champagne 1996</td>\n",
       "      <td>France\\n·\\nChampagne</td>\n",
       "      <td>4.7</td>\n",
       "      <td>$399</td>\n",
       "    </tr>\n",
       "    <tr>\n",
       "      <td>1</td>\n",
       "      <td>1</td>\n",
       "      <td>Dom Pérignon</td>\n",
       "      <td>P2 Plénitude Brut Champagne 2002</td>\n",
       "      <td>France\\n·\\nChampagne</td>\n",
       "      <td>4.7</td>\n",
       "      <td>$349.99</td>\n",
       "    </tr>\n",
       "    <tr>\n",
       "      <td>2</td>\n",
       "      <td>2</td>\n",
       "      <td>Veuve Clicquot</td>\n",
       "      <td>La Grande Dame Brut Rosé Champagne 1998</td>\n",
       "      <td>France\\n·\\nChampagne</td>\n",
       "      <td>4.7</td>\n",
       "      <td>$299.99</td>\n",
       "    </tr>\n",
       "    <tr>\n",
       "      <td>3</td>\n",
       "      <td>3</td>\n",
       "      <td>Dom Pérignon</td>\n",
       "      <td>Brut Rosé Champagne 1993</td>\n",
       "      <td>France\\n·\\nChampagne</td>\n",
       "      <td>4.7</td>\n",
       "      <td>$450</td>\n",
       "    </tr>\n",
       "    <tr>\n",
       "      <td>4</td>\n",
       "      <td>4</td>\n",
       "      <td>Schramsberg</td>\n",
       "      <td>J. Schram Brut Rosé 2010</td>\n",
       "      <td>United States\\n·\\nNorth Coast</td>\n",
       "      <td>4.7</td>\n",
       "      <td>$177.99</td>\n",
       "    </tr>\n",
       "  </tbody>\n",
       "</table>\n",
       "</div>"
      ],
      "text/plain": [
       "   Unnamed: 0          winery                                     wine  \\\n",
       "0           0    Dom Pérignon                      Brut Champagne 1996   \n",
       "1           1    Dom Pérignon         P2 Plénitude Brut Champagne 2002   \n",
       "2           2  Veuve Clicquot  La Grande Dame Brut Rosé Champagne 1998   \n",
       "3           3    Dom Pérignon                 Brut Rosé Champagne 1993   \n",
       "4           4     Schramsberg                 J. Schram Brut Rosé 2010   \n",
       "\n",
       "                        location  rating    price  \n",
       "0           France\\n·\\nChampagne     4.7     $399  \n",
       "1           France\\n·\\nChampagne     4.7  $349.99  \n",
       "2           France\\n·\\nChampagne     4.7  $299.99  \n",
       "3           France\\n·\\nChampagne     4.7     $450  \n",
       "4  United States\\n·\\nNorth Coast     4.7  $177.99  "
      ]
     },
     "execution_count": 9,
     "metadata": {},
     "output_type": "execute_result"
    }
   ],
   "source": [
    "df_3.head()"
   ]
  },
  {
   "cell_type": "code",
   "execution_count": 10,
   "metadata": {},
   "outputs": [
    {
     "name": "stdout",
     "output_type": "stream",
     "text": [
      "<class 'pandas.core.frame.DataFrame'>\n",
      "RangeIndex: 2575 entries, 0 to 2574\n",
      "Data columns (total 6 columns):\n",
      "Unnamed: 0    2575 non-null int64\n",
      "winery        2575 non-null object\n",
      "wine          2575 non-null object\n",
      "location      2574 non-null object\n",
      "rating        2575 non-null float64\n",
      "price         2575 non-null object\n",
      "dtypes: float64(1), int64(1), object(4)\n",
      "memory usage: 120.8+ KB\n"
     ]
    }
   ],
   "source": [
    "df_3.info()"
   ]
  },
  {
   "cell_type": "code",
   "execution_count": 11,
   "metadata": {},
   "outputs": [
    {
     "data": {
      "text/html": [
       "<div>\n",
       "<style scoped>\n",
       "    .dataframe tbody tr th:only-of-type {\n",
       "        vertical-align: middle;\n",
       "    }\n",
       "\n",
       "    .dataframe tbody tr th {\n",
       "        vertical-align: top;\n",
       "    }\n",
       "\n",
       "    .dataframe thead th {\n",
       "        text-align: right;\n",
       "    }\n",
       "</style>\n",
       "<table border=\"1\" class=\"dataframe\">\n",
       "  <thead>\n",
       "    <tr style=\"text-align: right;\">\n",
       "      <th></th>\n",
       "      <th>Unnamed: 0</th>\n",
       "      <th>winery</th>\n",
       "      <th>wine</th>\n",
       "      <th>location</th>\n",
       "      <th>rating</th>\n",
       "      <th>price</th>\n",
       "    </tr>\n",
       "  </thead>\n",
       "  <tbody>\n",
       "    <tr>\n",
       "      <td>0</td>\n",
       "      <td>0</td>\n",
       "      <td>Dom Pérignon</td>\n",
       "      <td>Brut Champagne 1996</td>\n",
       "      <td>France\\n·\\nChampagne</td>\n",
       "      <td>4.7</td>\n",
       "      <td>$399</td>\n",
       "    </tr>\n",
       "    <tr>\n",
       "      <td>1</td>\n",
       "      <td>1</td>\n",
       "      <td>Dom Pérignon</td>\n",
       "      <td>P2 Plénitude Brut Champagne 2002</td>\n",
       "      <td>France\\n·\\nChampagne</td>\n",
       "      <td>4.7</td>\n",
       "      <td>$349.99</td>\n",
       "    </tr>\n",
       "    <tr>\n",
       "      <td>2</td>\n",
       "      <td>2</td>\n",
       "      <td>Veuve Clicquot</td>\n",
       "      <td>La Grande Dame Brut Rosé Champagne 1998</td>\n",
       "      <td>France\\n·\\nChampagne</td>\n",
       "      <td>4.7</td>\n",
       "      <td>$299.99</td>\n",
       "    </tr>\n",
       "    <tr>\n",
       "      <td>3</td>\n",
       "      <td>3</td>\n",
       "      <td>Dom Pérignon</td>\n",
       "      <td>Brut Rosé Champagne 1993</td>\n",
       "      <td>France\\n·\\nChampagne</td>\n",
       "      <td>4.7</td>\n",
       "      <td>$450</td>\n",
       "    </tr>\n",
       "    <tr>\n",
       "      <td>4</td>\n",
       "      <td>4</td>\n",
       "      <td>Schramsberg</td>\n",
       "      <td>J. Schram Brut Rosé 2010</td>\n",
       "      <td>United States\\n·\\nNorth Coast</td>\n",
       "      <td>4.7</td>\n",
       "      <td>$177.99</td>\n",
       "    </tr>\n",
       "  </tbody>\n",
       "</table>\n",
       "</div>"
      ],
      "text/plain": [
       "   Unnamed: 0          winery                                     wine  \\\n",
       "0           0    Dom Pérignon                      Brut Champagne 1996   \n",
       "1           1    Dom Pérignon         P2 Plénitude Brut Champagne 2002   \n",
       "2           2  Veuve Clicquot  La Grande Dame Brut Rosé Champagne 1998   \n",
       "3           3    Dom Pérignon                 Brut Rosé Champagne 1993   \n",
       "4           4     Schramsberg                 J. Schram Brut Rosé 2010   \n",
       "\n",
       "                        location  rating    price  \n",
       "0           France\\n·\\nChampagne     4.7     $399  \n",
       "1           France\\n·\\nChampagne     4.7  $349.99  \n",
       "2           France\\n·\\nChampagne     4.7  $299.99  \n",
       "3           France\\n·\\nChampagne     4.7     $450  \n",
       "4  United States\\n·\\nNorth Coast     4.7  $177.99  "
      ]
     },
     "execution_count": 11,
     "metadata": {},
     "output_type": "execute_result"
    }
   ],
   "source": [
    "df_4.head()"
   ]
  },
  {
   "cell_type": "code",
   "execution_count": 12,
   "metadata": {},
   "outputs": [
    {
     "name": "stdout",
     "output_type": "stream",
     "text": [
      "<class 'pandas.core.frame.DataFrame'>\n",
      "RangeIndex: 2575 entries, 0 to 2574\n",
      "Data columns (total 6 columns):\n",
      "Unnamed: 0    2575 non-null int64\n",
      "winery        2575 non-null object\n",
      "wine          2575 non-null object\n",
      "location      2574 non-null object\n",
      "rating        2575 non-null float64\n",
      "price         2575 non-null object\n",
      "dtypes: float64(1), int64(1), object(4)\n",
      "memory usage: 120.8+ KB\n"
     ]
    }
   ],
   "source": [
    "df_4.info()"
   ]
  },
  {
   "cell_type": "code",
   "execution_count": 13,
   "metadata": {},
   "outputs": [],
   "source": [
    "sparkling_df=pd.concat([df_1,df_2,df_3,df_4],axis=0)"
   ]
  },
  {
   "cell_type": "code",
   "execution_count": 17,
   "metadata": {},
   "outputs": [
    {
     "data": {
      "text/html": [
       "<div>\n",
       "<style scoped>\n",
       "    .dataframe tbody tr th:only-of-type {\n",
       "        vertical-align: middle;\n",
       "    }\n",
       "\n",
       "    .dataframe tbody tr th {\n",
       "        vertical-align: top;\n",
       "    }\n",
       "\n",
       "    .dataframe thead th {\n",
       "        text-align: right;\n",
       "    }\n",
       "</style>\n",
       "<table border=\"1\" class=\"dataframe\">\n",
       "  <thead>\n",
       "    <tr style=\"text-align: right;\">\n",
       "      <th></th>\n",
       "      <th>Unnamed: 0</th>\n",
       "      <th>winery</th>\n",
       "      <th>wine</th>\n",
       "      <th>location</th>\n",
       "      <th>rating</th>\n",
       "      <th>price</th>\n",
       "    </tr>\n",
       "  </thead>\n",
       "  <tbody>\n",
       "    <tr>\n",
       "      <td>0</td>\n",
       "      <td>0</td>\n",
       "      <td>Dom Pérignon</td>\n",
       "      <td>Brut Champagne 1996</td>\n",
       "      <td>France\\n·\\nChampagne</td>\n",
       "      <td>4.7</td>\n",
       "      <td>$399</td>\n",
       "    </tr>\n",
       "    <tr>\n",
       "      <td>1</td>\n",
       "      <td>1</td>\n",
       "      <td>Dom Pérignon</td>\n",
       "      <td>P2 Plénitude Brut Champagne 2002</td>\n",
       "      <td>France\\n·\\nChampagne</td>\n",
       "      <td>4.7</td>\n",
       "      <td>$349.99</td>\n",
       "    </tr>\n",
       "    <tr>\n",
       "      <td>2</td>\n",
       "      <td>2</td>\n",
       "      <td>Veuve Clicquot</td>\n",
       "      <td>La Grande Dame Brut Rosé Champagne 1998</td>\n",
       "      <td>France\\n·\\nChampagne</td>\n",
       "      <td>4.7</td>\n",
       "      <td>$299.99</td>\n",
       "    </tr>\n",
       "    <tr>\n",
       "      <td>3</td>\n",
       "      <td>3</td>\n",
       "      <td>Dom Pérignon</td>\n",
       "      <td>Brut Rosé Champagne 1993</td>\n",
       "      <td>France\\n·\\nChampagne</td>\n",
       "      <td>4.7</td>\n",
       "      <td>$450</td>\n",
       "    </tr>\n",
       "    <tr>\n",
       "      <td>4</td>\n",
       "      <td>4</td>\n",
       "      <td>Schramsberg</td>\n",
       "      <td>J. Schram Brut Rosé 2010</td>\n",
       "      <td>United States\\n·\\nNorth Coast</td>\n",
       "      <td>4.7</td>\n",
       "      <td>$177.99</td>\n",
       "    </tr>\n",
       "  </tbody>\n",
       "</table>\n",
       "</div>"
      ],
      "text/plain": [
       "   Unnamed: 0          winery                                     wine  \\\n",
       "0           0    Dom Pérignon                      Brut Champagne 1996   \n",
       "1           1    Dom Pérignon         P2 Plénitude Brut Champagne 2002   \n",
       "2           2  Veuve Clicquot  La Grande Dame Brut Rosé Champagne 1998   \n",
       "3           3    Dom Pérignon                 Brut Rosé Champagne 1993   \n",
       "4           4     Schramsberg                 J. Schram Brut Rosé 2010   \n",
       "\n",
       "                        location  rating    price  \n",
       "0           France\\n·\\nChampagne     4.7     $399  \n",
       "1           France\\n·\\nChampagne     4.7  $349.99  \n",
       "2           France\\n·\\nChampagne     4.7  $299.99  \n",
       "3           France\\n·\\nChampagne     4.7     $450  \n",
       "4  United States\\n·\\nNorth Coast     4.7  $177.99  "
      ]
     },
     "execution_count": 17,
     "metadata": {},
     "output_type": "execute_result"
    }
   ],
   "source": [
    "sparkling_df.head()"
   ]
  },
  {
   "cell_type": "code",
   "execution_count": 18,
   "metadata": {},
   "outputs": [
    {
     "name": "stdout",
     "output_type": "stream",
     "text": [
      "<class 'pandas.core.frame.DataFrame'>\n",
      "Int64Index: 10300 entries, 0 to 2574\n",
      "Data columns (total 6 columns):\n",
      "Unnamed: 0    10300 non-null int64\n",
      "winery        10300 non-null object\n",
      "wine          10300 non-null object\n",
      "location      10296 non-null object\n",
      "rating        10300 non-null float64\n",
      "price         10300 non-null object\n",
      "dtypes: float64(1), int64(1), object(4)\n",
      "memory usage: 563.3+ KB\n"
     ]
    }
   ],
   "source": [
    "sparkling_df.info()"
   ]
  },
  {
   "cell_type": "code",
   "execution_count": 19,
   "metadata": {},
   "outputs": [],
   "source": [
    "sparkling_df.reset_index(level=None, drop=True, inplace=True)"
   ]
  },
  {
   "cell_type": "code",
   "execution_count": 21,
   "metadata": {},
   "outputs": [],
   "source": [
    "sparkling_df.drop(['Unnamed: 0'],axis=1,inplace=True)"
   ]
  },
  {
   "cell_type": "code",
   "execution_count": 22,
   "metadata": {},
   "outputs": [],
   "source": [
    "sparkling_df['wine_category']=\"Sparkling\""
   ]
  },
  {
   "cell_type": "code",
   "execution_count": 23,
   "metadata": {},
   "outputs": [],
   "source": [
    "sparkling_df[\"location\"]= sparkling_df[\"location\"].str.replace(\"\\n·\\n\", \"_\", case = False) "
   ]
  },
  {
   "cell_type": "code",
   "execution_count": 24,
   "metadata": {},
   "outputs": [],
   "source": [
    "sparkling_df[['country','region']] = sparkling_df.location.apply(lambda x: pd.Series(str(x).split(\"_\")))          "
   ]
  },
  {
   "cell_type": "code",
   "execution_count": 26,
   "metadata": {},
   "outputs": [
    {
     "data": {
      "text/html": [
       "<div>\n",
       "<style scoped>\n",
       "    .dataframe tbody tr th:only-of-type {\n",
       "        vertical-align: middle;\n",
       "    }\n",
       "\n",
       "    .dataframe tbody tr th {\n",
       "        vertical-align: top;\n",
       "    }\n",
       "\n",
       "    .dataframe thead th {\n",
       "        text-align: right;\n",
       "    }\n",
       "</style>\n",
       "<table border=\"1\" class=\"dataframe\">\n",
       "  <thead>\n",
       "    <tr style=\"text-align: right;\">\n",
       "      <th></th>\n",
       "      <th>winery</th>\n",
       "      <th>wine</th>\n",
       "      <th>location</th>\n",
       "      <th>rating</th>\n",
       "      <th>price</th>\n",
       "      <th>wine_category</th>\n",
       "      <th>country</th>\n",
       "      <th>region</th>\n",
       "    </tr>\n",
       "  </thead>\n",
       "  <tbody>\n",
       "    <tr>\n",
       "      <td>0</td>\n",
       "      <td>Dom Pérignon</td>\n",
       "      <td>Brut Champagne 1996</td>\n",
       "      <td>France_Champagne</td>\n",
       "      <td>4.7</td>\n",
       "      <td>$399</td>\n",
       "      <td>Sparkling</td>\n",
       "      <td>France</td>\n",
       "      <td>Champagne</td>\n",
       "    </tr>\n",
       "    <tr>\n",
       "      <td>1</td>\n",
       "      <td>Dom Pérignon</td>\n",
       "      <td>P2 Plénitude Brut Champagne 2002</td>\n",
       "      <td>France_Champagne</td>\n",
       "      <td>4.7</td>\n",
       "      <td>$349.99</td>\n",
       "      <td>Sparkling</td>\n",
       "      <td>France</td>\n",
       "      <td>Champagne</td>\n",
       "    </tr>\n",
       "    <tr>\n",
       "      <td>2</td>\n",
       "      <td>Veuve Clicquot</td>\n",
       "      <td>La Grande Dame Brut Rosé Champagne 1998</td>\n",
       "      <td>France_Champagne</td>\n",
       "      <td>4.7</td>\n",
       "      <td>$299.99</td>\n",
       "      <td>Sparkling</td>\n",
       "      <td>France</td>\n",
       "      <td>Champagne</td>\n",
       "    </tr>\n",
       "    <tr>\n",
       "      <td>3</td>\n",
       "      <td>Dom Pérignon</td>\n",
       "      <td>Brut Rosé Champagne 1993</td>\n",
       "      <td>France_Champagne</td>\n",
       "      <td>4.7</td>\n",
       "      <td>$450</td>\n",
       "      <td>Sparkling</td>\n",
       "      <td>France</td>\n",
       "      <td>Champagne</td>\n",
       "    </tr>\n",
       "    <tr>\n",
       "      <td>4</td>\n",
       "      <td>Schramsberg</td>\n",
       "      <td>J. Schram Brut Rosé 2010</td>\n",
       "      <td>United States_North Coast</td>\n",
       "      <td>4.7</td>\n",
       "      <td>$177.99</td>\n",
       "      <td>Sparkling</td>\n",
       "      <td>United States</td>\n",
       "      <td>North Coast</td>\n",
       "    </tr>\n",
       "  </tbody>\n",
       "</table>\n",
       "</div>"
      ],
      "text/plain": [
       "           winery                                     wine  \\\n",
       "0    Dom Pérignon                      Brut Champagne 1996   \n",
       "1    Dom Pérignon         P2 Plénitude Brut Champagne 2002   \n",
       "2  Veuve Clicquot  La Grande Dame Brut Rosé Champagne 1998   \n",
       "3    Dom Pérignon                 Brut Rosé Champagne 1993   \n",
       "4     Schramsberg                 J. Schram Brut Rosé 2010   \n",
       "\n",
       "                    location  rating    price wine_category        country  \\\n",
       "0           France_Champagne     4.7     $399     Sparkling         France   \n",
       "1           France_Champagne     4.7  $349.99     Sparkling         France   \n",
       "2           France_Champagne     4.7  $299.99     Sparkling         France   \n",
       "3           France_Champagne     4.7     $450     Sparkling         France   \n",
       "4  United States_North Coast     4.7  $177.99     Sparkling  United States   \n",
       "\n",
       "        region  \n",
       "0    Champagne  \n",
       "1    Champagne  \n",
       "2    Champagne  \n",
       "3    Champagne  \n",
       "4  North Coast  "
      ]
     },
     "execution_count": 26,
     "metadata": {},
     "output_type": "execute_result"
    }
   ],
   "source": [
    "sparkling_df.head()"
   ]
  },
  {
   "cell_type": "code",
   "execution_count": 27,
   "metadata": {},
   "outputs": [],
   "source": [
    "sparkling_df['vintage']=\"\""
   ]
  },
  {
   "cell_type": "code",
   "execution_count": 28,
   "metadata": {},
   "outputs": [],
   "source": [
    "def vintage (x):\n",
    "    sparkling_df.loc[sparkling_df['wine'].str.contains(x),'vintage']= x"
   ]
  },
  {
   "cell_type": "code",
   "execution_count": 39,
   "metadata": {},
   "outputs": [],
   "source": [
    "#Estabish a list of vintages as strings we can loop through with our function to populate the full vintage column  \n",
    "#After initial run of loop, backfilled vintages for 40 observations to this list\n",
    "vintage_list = ['N.V.', '1911','1928','1961','1982','1983','1985','1986','1987','1988','1989','1990', '1991', '1992','1993','1994','1995','1996','1997','1998','1999','2000','2001','2002','2003','2004','2005','2006','2007','2008','2009','2010','2011','2012','2013','2014','2015','2016','2017','2018','2019','2020']"
   ]
  },
  {
   "cell_type": "code",
   "execution_count": 40,
   "metadata": {},
   "outputs": [],
   "source": [
    "for i in vintage_list: \n",
    "    vintage (i)"
   ]
  },
  {
   "cell_type": "code",
   "execution_count": 41,
   "metadata": {},
   "outputs": [
    {
     "data": {
      "text/plain": [
       "(N.V.    5632\n",
       " 2008     740\n",
       " 2004     516\n",
       " 2011     388\n",
       " 2012     364\n",
       " 2005     316\n",
       " 2009     260\n",
       " 2002     228\n",
       " 2010     208\n",
       " 2006     196\n",
       " 2013     184\n",
       " 2014     168\n",
       " 2017     156\n",
       " 2016     148\n",
       " 2007     128\n",
       " 2018     120\n",
       " 2015     112\n",
       " 1998      72\n",
       " 2000      60\n",
       " 1999      48\n",
       " 1996      44\n",
       " 1995      32\n",
       " 1990      28\n",
       " 2003      24\n",
       " 1928      16\n",
       " 2019      16\n",
       " 1993      12\n",
       " 1961      12\n",
       " 1997      12\n",
       " 2001       8\n",
       " 1989       8\n",
       " 1985       8\n",
       " 1992       8\n",
       " 1988       8\n",
       " 1911       8\n",
       " 1982       4\n",
       " 1983       4\n",
       " 1986       4\n",
       " Name: vintage, dtype: int64,)"
      ]
     },
     "execution_count": 41,
     "metadata": {},
     "output_type": "execute_result"
    }
   ],
   "source": [
    "sparkling_df['vintage'].value_counts(),"
   ]
  },
  {
   "cell_type": "code",
   "execution_count": 81,
   "metadata": {},
   "outputs": [],
   "source": [
    "sparkling_wine_style_list=['Cava','cava','Champagne','Lambrusco','Prosecco','Rose','Rosa','Rosé','Blanc de Blanc','Brut','Cuvee','Moscato','Spumante','Sec','Demi-Sec','Doux','Blanc de Noir','Pinot Noir','Crémant']"
   ]
  },
  {
   "cell_type": "code",
   "execution_count": 82,
   "metadata": {},
   "outputs": [],
   "source": [
    "sparkling_df['wine_style']=\"\""
   ]
  },
  {
   "cell_type": "code",
   "execution_count": 83,
   "metadata": {},
   "outputs": [],
   "source": [
    "#this is the function we will run to extract the winestyle from the wine column\n",
    "def winestyle(x):\n",
    "    sparkling_df.loc[sparkling_df['wine'].str.contains(x),'wine_style'] = x "
   ]
  },
  {
   "cell_type": "code",
   "execution_count": 84,
   "metadata": {},
   "outputs": [],
   "source": [
    "for i in sparkling_wine_style_list:\n",
    "    winestyle(i)"
   ]
  },
  {
   "cell_type": "code",
   "execution_count": 89,
   "metadata": {},
   "outputs": [],
   "source": [
    "sparkling_df['wine_style'] =sparkling_df['wine_style'].replace(\"\",'Sparkling')"
   ]
  },
  {
   "cell_type": "code",
   "execution_count": 90,
   "metadata": {},
   "outputs": [
    {
     "data": {
      "text/plain": [
       "Brut              6448\n",
       "Sparkling          644\n",
       "Prosecco           500\n",
       "Rosé               468\n",
       "Champagne          456\n",
       "Moscato            392\n",
       "Crémant            380\n",
       "Blanc de Blanc     272\n",
       "Pinot Noir         164\n",
       "Blanc de Noir      128\n",
       "Rosa               124\n",
       "Sec                 72\n",
       "Demi-Sec            68\n",
       "Spumante            60\n",
       "Lambrusco           48\n",
       "Cava                36\n",
       "Cuvee               16\n",
       "Rose                16\n",
       "cava                 4\n",
       "Doux                 4\n",
       "Name: wine_style, dtype: int64"
      ]
     },
     "execution_count": 90,
     "metadata": {},
     "output_type": "execute_result"
    }
   ],
   "source": [
    "sparkling_df['wine_style'].value_counts()"
   ]
  },
  {
   "cell_type": "code",
   "execution_count": 92,
   "metadata": {},
   "outputs": [
    {
     "data": {
      "text/html": [
       "<div>\n",
       "<style scoped>\n",
       "    .dataframe tbody tr th:only-of-type {\n",
       "        vertical-align: middle;\n",
       "    }\n",
       "\n",
       "    .dataframe tbody tr th {\n",
       "        vertical-align: top;\n",
       "    }\n",
       "\n",
       "    .dataframe thead th {\n",
       "        text-align: right;\n",
       "    }\n",
       "</style>\n",
       "<table border=\"1\" class=\"dataframe\">\n",
       "  <thead>\n",
       "    <tr style=\"text-align: right;\">\n",
       "      <th></th>\n",
       "      <th>winery</th>\n",
       "      <th>wine</th>\n",
       "      <th>location</th>\n",
       "      <th>rating</th>\n",
       "      <th>price</th>\n",
       "      <th>wine_category</th>\n",
       "      <th>country</th>\n",
       "      <th>region</th>\n",
       "      <th>vintage</th>\n",
       "      <th>wine_style</th>\n",
       "    </tr>\n",
       "  </thead>\n",
       "  <tbody>\n",
       "    <tr>\n",
       "      <td>0</td>\n",
       "      <td>Dom Pérignon</td>\n",
       "      <td>Brut Champagne 1996</td>\n",
       "      <td>France_Champagne</td>\n",
       "      <td>4.7</td>\n",
       "      <td>$399</td>\n",
       "      <td>Sparkling</td>\n",
       "      <td>France</td>\n",
       "      <td>Champagne</td>\n",
       "      <td>1996</td>\n",
       "      <td>Brut</td>\n",
       "    </tr>\n",
       "    <tr>\n",
       "      <td>1</td>\n",
       "      <td>Dom Pérignon</td>\n",
       "      <td>P2 Plénitude Brut Champagne 2002</td>\n",
       "      <td>France_Champagne</td>\n",
       "      <td>4.7</td>\n",
       "      <td>$349.99</td>\n",
       "      <td>Sparkling</td>\n",
       "      <td>France</td>\n",
       "      <td>Champagne</td>\n",
       "      <td>2002</td>\n",
       "      <td>Brut</td>\n",
       "    </tr>\n",
       "    <tr>\n",
       "      <td>2</td>\n",
       "      <td>Veuve Clicquot</td>\n",
       "      <td>La Grande Dame Brut Rosé Champagne 1998</td>\n",
       "      <td>France_Champagne</td>\n",
       "      <td>4.7</td>\n",
       "      <td>$299.99</td>\n",
       "      <td>Sparkling</td>\n",
       "      <td>France</td>\n",
       "      <td>Champagne</td>\n",
       "      <td>1998</td>\n",
       "      <td>Brut</td>\n",
       "    </tr>\n",
       "    <tr>\n",
       "      <td>3</td>\n",
       "      <td>Dom Pérignon</td>\n",
       "      <td>Brut Rosé Champagne 1993</td>\n",
       "      <td>France_Champagne</td>\n",
       "      <td>4.7</td>\n",
       "      <td>$450</td>\n",
       "      <td>Sparkling</td>\n",
       "      <td>France</td>\n",
       "      <td>Champagne</td>\n",
       "      <td>1993</td>\n",
       "      <td>Brut</td>\n",
       "    </tr>\n",
       "    <tr>\n",
       "      <td>4</td>\n",
       "      <td>Schramsberg</td>\n",
       "      <td>J. Schram Brut Rosé 2010</td>\n",
       "      <td>United States_North Coast</td>\n",
       "      <td>4.7</td>\n",
       "      <td>$177.99</td>\n",
       "      <td>Sparkling</td>\n",
       "      <td>United States</td>\n",
       "      <td>North Coast</td>\n",
       "      <td>2010</td>\n",
       "      <td>Brut</td>\n",
       "    </tr>\n",
       "  </tbody>\n",
       "</table>\n",
       "</div>"
      ],
      "text/plain": [
       "           winery                                     wine  \\\n",
       "0    Dom Pérignon                      Brut Champagne 1996   \n",
       "1    Dom Pérignon         P2 Plénitude Brut Champagne 2002   \n",
       "2  Veuve Clicquot  La Grande Dame Brut Rosé Champagne 1998   \n",
       "3    Dom Pérignon                 Brut Rosé Champagne 1993   \n",
       "4     Schramsberg                 J. Schram Brut Rosé 2010   \n",
       "\n",
       "                    location  rating    price wine_category        country  \\\n",
       "0           France_Champagne     4.7     $399     Sparkling         France   \n",
       "1           France_Champagne     4.7  $349.99     Sparkling         France   \n",
       "2           France_Champagne     4.7  $299.99     Sparkling         France   \n",
       "3           France_Champagne     4.7     $450     Sparkling         France   \n",
       "4  United States_North Coast     4.7  $177.99     Sparkling  United States   \n",
       "\n",
       "        region vintage wine_style  \n",
       "0    Champagne    1996       Brut  \n",
       "1    Champagne    2002       Brut  \n",
       "2    Champagne    1998       Brut  \n",
       "3    Champagne    1993       Brut  \n",
       "4  North Coast    2010       Brut  "
      ]
     },
     "execution_count": 92,
     "metadata": {},
     "output_type": "execute_result"
    }
   ],
   "source": [
    "sparkling_df.head()"
   ]
  },
  {
   "cell_type": "code",
   "execution_count": 94,
   "metadata": {},
   "outputs": [
    {
     "name": "stdout",
     "output_type": "stream",
     "text": [
      "<class 'pandas.core.frame.DataFrame'>\n",
      "RangeIndex: 10300 entries, 0 to 10299\n",
      "Data columns (total 10 columns):\n",
      "winery           10300 non-null object\n",
      "wine             10300 non-null object\n",
      "location         10296 non-null object\n",
      "rating           10300 non-null float64\n",
      "price            10300 non-null object\n",
      "wine_category    10300 non-null object\n",
      "country          10300 non-null object\n",
      "region           10296 non-null object\n",
      "vintage          10300 non-null object\n",
      "wine_style       10300 non-null object\n",
      "dtypes: float64(1), object(9)\n",
      "memory usage: 804.8+ KB\n"
     ]
    }
   ],
   "source": [
    "sparkling_df.info()"
   ]
  },
  {
   "cell_type": "code",
   "execution_count": 91,
   "metadata": {},
   "outputs": [],
   "source": [
    "sparkling_df.to_csv('./sparkling_master.csv')"
   ]
  },
  {
   "cell_type": "code",
   "execution_count": null,
   "metadata": {},
   "outputs": [],
   "source": []
  }
 ],
 "metadata": {
  "kernelspec": {
   "display_name": "Python 3",
   "language": "python",
   "name": "python3"
  },
  "language_info": {
   "codemirror_mode": {
    "name": "ipython",
    "version": 3
   },
   "file_extension": ".py",
   "mimetype": "text/x-python",
   "name": "python",
   "nbconvert_exporter": "python",
   "pygments_lexer": "ipython3",
   "version": "3.7.4"
  }
 },
 "nbformat": 4,
 "nbformat_minor": 2
}
